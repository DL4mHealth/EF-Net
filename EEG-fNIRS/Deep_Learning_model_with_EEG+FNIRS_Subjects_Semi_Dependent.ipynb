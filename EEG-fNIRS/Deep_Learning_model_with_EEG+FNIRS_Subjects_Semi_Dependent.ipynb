{
  "cells": [
    {
      "cell_type": "markdown",
      "id": "b69b9c99",
      "metadata": {
        "id": "b69b9c99"
      },
      "source": [
        "# Subjects Semi-Dependent Experiments"
      ]
    },
    {
      "cell_type": "code",
      "execution_count": null,
      "id": "b224e26c",
      "metadata": {
        "id": "b224e26c"
      },
      "outputs": [],
      "source": [
        "#all subjects' samples shuffled and divided into an 80-20 train-test split"
      ]
    },
    {
      "cell_type": "code",
      "execution_count": null,
      "id": "qaZFeYz8IXeJ",
      "metadata": {
        "id": "qaZFeYz8IXeJ"
      },
      "outputs": [],
      "source": [
        "## FOR GOOGLE COLLAB ONLY\n",
        "#from google.colab import drive\n",
        "#drive.mount('/content/drive')"
      ]
    },
    {
      "cell_type": "code",
      "execution_count": null,
      "id": "rd51QLJaIYWs",
      "metadata": {
        "id": "rd51QLJaIYWs"
      },
      "outputs": [],
      "source": [
        "## FOR GOOGLE COLLAB ONLY\n",
        "#extract EEG & FNIRS data\n",
        "#cp /content/drive/MyDrive/Data.zip .\n",
        "#!unzip -qq Data.zip"
      ]
    },
    {
      "cell_type": "markdown",
      "id": "9efbd3a0",
      "metadata": {
        "id": "9efbd3a0"
      },
      "source": [
        "In this notebook, we will apply EF-Net classifier to Hybrid EEG + fNIRS data with the data split in a Subject Semi-Dependent setting."
      ]
    },
    {
      "cell_type": "markdown",
      "id": "84b1c193",
      "metadata": {
        "id": "84b1c193"
      },
      "source": [
        "The current settings in this file will run the EF-Net model. (baseline_model==False). We also have the Deep Learning baselines here, that can be implemented using the 'baseline_model' boolean set to True, and further the 'resnet' boolean which indicates a resnet baseline to be used. If resnet==False, then the VGG baseline shall be implemented.\n",
        "Deep learning parameters were set according to the table in the appendix of our published paper: [EF-Net: Mental State Recognition by Analyzing Multimodal EEG-fNIRS via CNN](https://doi.org/10.3390/s24061889). For more information on this code, please refer to this paper as well."
      ]
    },
    {
      "cell_type": "markdown",
      "id": "a7400f7f",
      "metadata": {
        "id": "a7400f7f"
      },
      "source": [
        "The dataset we have used is called: Simultaneous Acquisition of EEG and NIRS during Cognitive Tasks for\n",
        "an Open Access Dataset,\n",
        "    and is available here: https://doc.ml.tu-berlin.de/simultaneous_EEG_NIRS/. We are using Dataset C for classification.\n",
        "    There is 72 fNIRS channels and 30 EEG channels. The dataset has 26 subjects in total. Each subject has data of 60 trials: which includes 3 sessions per subject, each session has 20 trials, each trial has 10 Word Generation tasks, and 10 Baseline tasks. This brings each subject to a total of 60 trials of either WG or BL tasks, performed in random order. Here we will further use those 60 trials to create 360 samples per subject, by using a sliding window technique across each trial."
      ]
    },
    {
      "cell_type": "code",
      "execution_count": 3,
      "id": "dcca0812",
      "metadata": {
        "id": "dcca0812"
      },
      "outputs": [],
      "source": [
        "import numpy as np\n",
        "import tensorflow as tf\n",
        "from data_preprocess import extract_subj_semidep\n",
        "import hybrid_model_structures as models"
      ]
    },
    {
      "cell_type": "markdown",
      "id": "d812c04a",
      "metadata": {
        "id": "d812c04a"
      },
      "source": [
        "### Inputs - enter here:"
      ]
    },
    {
      "cell_type": "code",
      "execution_count": 4,
      "id": "9a51ed2c",
      "metadata": {
        "id": "9a51ed2c"
      },
      "outputs": [],
      "source": [
        "#INPUT\n",
        "\n",
        "#subjects directory path\n",
        "#The data should be extracted in the same directory as this script.\n",
        "dir_path_f = \"./FNIRS_data/FNIRS2/NIRS_01-26_MATLAB/\"\n",
        "dir_path_e=\"./EEG_data/EEG2/EEG_01-26_MATLAB/\"\n",
        "\n",
        "\n",
        "\n",
        "#######################\n",
        "#Deep Learning settings:\n",
        "\n",
        "baseline_model=False\n",
        "resnet=False\n",
        "if baseline_model:\n",
        "    lr=0.0001\n",
        "    EPOCHS=60\n",
        "else:\n",
        "    lr=0.01\n",
        "    EPOCHS=60\n",
        "BATCH_SIZE = 32\n",
        "RANDOM_STATE=38\n"
      ]
    },
    {
      "cell_type": "markdown",
      "id": "e6c229b8",
      "metadata": {
        "id": "e6c229b8"
      },
      "source": [
        "#### Extracting samples from the data"
      ]
    },
    {
      "cell_type": "code",
      "execution_count": 5,
      "id": "842e77c9",
      "metadata": {
        "colab": {
          "base_uri": "https://localhost:8080/"
        },
        "id": "842e77c9",
        "outputId": "6a6e9739-b3d1-4476-8d30-123bbe701d88"
      },
      "outputs": [
        {
          "output_type": "stream",
          "name": "stdout",
          "text": [
            "Subject Count: 26\n",
            "fnirs len 20107\n",
            "eeg len 371283\n",
            "Subject  1 is done. Length of X is now: 0 and length of Y is:  360\n",
            "fnirs len 20219\n",
            "eeg len 371416\n",
            "Subject  2 is done. Length of X is now: 0 and length of Y is:  720\n",
            "fnirs len 20269\n",
            "eeg len 373808\n",
            "Subject  3 is done. Length of X is now: 0 and length of Y is:  1080\n",
            "fnirs len 20115\n",
            "eeg len 371949\n",
            "Subject  4 is done. Length of X is now: 0 and length of Y is:  1440\n",
            "fnirs len 20237\n",
            "eeg len 372647\n",
            "Subject  5 is done. Length of X is now: 0 and length of Y is:  1800\n",
            "fnirs len 20191\n",
            "eeg len 371874\n",
            "Subject  6 is done. Length of X is now: 0 and length of Y is:  2160\n",
            "fnirs len 20145\n",
            "eeg len 371449\n",
            "Subject  7 is done. Length of X is now: 0 and length of Y is:  2520\n",
            "fnirs len 20192\n",
            "eeg len 372097\n",
            "Subject  8 is done. Length of X is now: 0 and length of Y is:  2880\n",
            "fnirs len 20241\n",
            "eeg len 371618\n",
            "Subject  9 is done. Length of X is now: 0 and length of Y is:  3240\n",
            "fnirs len 20191\n",
            "eeg len 371869\n",
            "Subject  10 is done. Length of X is now: 0 and length of Y is:  3600\n",
            "fnirs len 20211\n",
            "eeg len 371851\n",
            "Subject  11 is done. Length of X is now: 0 and length of Y is:  3960\n",
            "fnirs len 20215\n",
            "eeg len 370962\n",
            "Subject  12 is done. Length of X is now: 0 and length of Y is:  4320\n",
            "fnirs len 20210\n",
            "eeg len 371163\n",
            "Subject  13 is done. Length of X is now: 0 and length of Y is:  4680\n",
            "fnirs len 20299\n",
            "eeg len 373725\n",
            "Subject  14 is done. Length of X is now: 0 and length of Y is:  5040\n",
            "fnirs len 20245\n",
            "eeg len 372182\n",
            "Subject  15 is done. Length of X is now: 0 and length of Y is:  5400\n",
            "fnirs len 20253\n",
            "eeg len 372944\n",
            "Subject  16 is done. Length of X is now: 0 and length of Y is:  5760\n",
            "fnirs len 20207\n",
            "eeg len 372461\n",
            "Subject  17 is done. Length of X is now: 0 and length of Y is:  6120\n",
            "fnirs len 20295\n",
            "eeg len 372437\n",
            "Subject  18 is done. Length of X is now: 0 and length of Y is:  6480\n",
            "fnirs len 20122\n",
            "eeg len 370551\n",
            "Subject  19 is done. Length of X is now: 0 and length of Y is:  6840\n",
            "fnirs len 20446\n",
            "eeg len 372787\n",
            "Subject  20 is done. Length of X is now: 0 and length of Y is:  7200\n",
            "fnirs len 20169\n",
            "eeg len 371132\n",
            "Subject  21 is done. Length of X is now: 0 and length of Y is:  7560\n",
            "fnirs len 20169\n",
            "eeg len 370973\n",
            "Subject  22 is done. Length of X is now: 0 and length of Y is:  7920\n",
            "fnirs len 20203\n",
            "eeg len 372360\n",
            "Subject  23 is done. Length of X is now: 0 and length of Y is:  8280\n",
            "fnirs len 20253\n",
            "eeg len 372602\n",
            "Subject  24 is done. Length of X is now: 0 and length of Y is:  8640\n",
            "fnirs len 20230\n",
            "eeg len 371934\n",
            "Subject  25 is done. Length of X is now: 0 and length of Y is:  9000\n",
            "fnirs len 20157\n",
            "eeg len 371154\n",
            "Subject  26 is done. Length of X is now: 0 and length of Y is:  9360\n",
            "(9360, 25, 72)\n",
            "(9360, 500, 30)\n",
            "(9360, 2)\n"
          ]
        }
      ],
      "source": [
        "X_eeg, X_fnirs, Y = extract_subj_semidep(dir_path_e,dir_path_f,baseline_model)"
      ]
    },
    {
      "cell_type": "markdown",
      "id": "87620358",
      "metadata": {
        "id": "87620358"
      },
      "source": [
        "We now have an array of 360 samples per subject, with a total of 9360 samples as shown across the train and test in output above. Each sample is a 5 second window from the task data, with one second of overlap with the previous sample.  \n",
        "Secondly, we have an array Y made from the labels (y) array in session_markers from the dataset, and by appending the corresponding classes across the samples taken, we have 360 trial labels per subject in the Y array, totalling 9360 labels across all subjects' trials."
      ]
    },
    {
      "cell_type": "markdown",
      "id": "fcce0655",
      "metadata": {
        "id": "fcce0655"
      },
      "source": [
        "### Standardizing the data, and then splitting the train-test partitions"
      ]
    },
    {
      "cell_type": "code",
      "execution_count": 6,
      "id": "1f97ccc6",
      "metadata": {
        "id": "1f97ccc6"
      },
      "outputs": [],
      "source": [
        "from sklearn.preprocessing import StandardScaler\n",
        "from sklearn.model_selection import train_test_split"
      ]
    },
    {
      "cell_type": "code",
      "execution_count": 7,
      "id": "3fd6e55b",
      "metadata": {
        "colab": {
          "base_uri": "https://localhost:8080/"
        },
        "id": "3fd6e55b",
        "outputId": "0f2c25c9-344d-4016-aaf0-445f1ab86a5a"
      },
      "outputs": [
        {
          "output_type": "stream",
          "name": "stdout",
          "text": [
            "(9360, 500, 30)\n",
            "(9360, 25, 72)\n"
          ]
        }
      ],
      "source": [
        "# Standardize our signals data\n",
        "# Reshaping the data samples into 2D applying the scaling and then reshaping back\n",
        "scaler = StandardScaler()\n",
        "\n",
        "XeegS = scaler.fit_transform(X_eeg.reshape(-1, X_eeg.shape[-1])).reshape(X_eeg.shape)\n",
        "XfnirsS = scaler.fit_transform(X_fnirs.reshape(-1, X_fnirs.shape[-1])).reshape(X_fnirs.shape)\n",
        "\n",
        "#adjustment to labels to make compatible with binary_crossentropy\n",
        "Y=Y[:,0]\n",
        "\n",
        "print(XeegS.shape)\n",
        "print(XfnirsS.shape)\n"
      ]
    },
    {
      "cell_type": "code",
      "execution_count": 8,
      "id": "b47de43e",
      "metadata": {
        "colab": {
          "base_uri": "https://localhost:8080/"
        },
        "id": "b47de43e",
        "outputId": "e72a2447-a4db-44ce-d3c0-fbde6a9c11de"
      },
      "outputs": [
        {
          "output_type": "execute_result",
          "data": {
            "text/plain": [
              "(9360, 500, 30, 1)"
            ]
          },
          "metadata": {},
          "execution_count": 8
        }
      ],
      "source": [
        "#reshaping data into correct form for input into models.\n",
        "if baseline_model:\n",
        "  XeegS_3D=XeegS\n",
        "  XfnirsS_3D=XfnirsS\n",
        "else:\n",
        "  #reshape into 2D and 1 channel data (3D samples list) for EF-Net.\n",
        "  XeegS_3D=np.reshape(XeegS,(XeegS.shape[0],XeegS.shape[1],XeegS.shape[2],1))\n",
        "  XfnirsS_3D=np.reshape(XfnirsS,(XfnirsS.shape[0],XfnirsS.shape[1],XfnirsS.shape[2],1))\n",
        "XeegS_3D.shape"
      ]
    },
    {
      "cell_type": "code",
      "execution_count": 9,
      "id": "8429f7da",
      "metadata": {
        "colab": {
          "base_uri": "https://localhost:8080/"
        },
        "id": "8429f7da",
        "outputId": "c2b5b191-432d-484b-f6bf-becf3423f373"
      },
      "outputs": [
        {
          "output_type": "stream",
          "name": "stdout",
          "text": [
            "(7488, 500, 30, 1)\n",
            "(7488, 25, 72, 1)\n"
          ]
        }
      ],
      "source": [
        "#Split all samples into training and testing splits\n",
        "Xeeg_train, Xeeg_test, y_train, y_test = train_test_split(XeegS_3D, Y, test_size=0.2,random_state=RANDOM_STATE)\n",
        "print(Xeeg_train.shape)\n",
        "\n",
        "Xfnirs_train, Xfnirs_test, y_train2, y_test2 = train_test_split(XfnirsS_3D, Y, test_size=0.2, random_state=RANDOM_STATE)\n",
        "print(Xfnirs_train.shape)\n",
        "\n",
        "#print(np.all(y_train==y_train2))"
      ]
    },
    {
      "cell_type": "code",
      "execution_count": 10,
      "id": "3e73be8a",
      "metadata": {
        "colab": {
          "base_uri": "https://localhost:8080/"
        },
        "id": "3e73be8a",
        "outputId": "2bcf8c8f-8e88-44e6-bd06-b41b8f4763a7"
      },
      "outputs": [
        {
          "output_type": "stream",
          "name": "stdout",
          "text": [
            "(7488, 500, 30, 1) (1872, 500, 30, 1) (7488,) (1872,)\n"
          ]
        }
      ],
      "source": [
        "print(Xeeg_train.shape, Xeeg_test.shape, y_train.shape, y_test.shape)"
      ]
    },
    {
      "cell_type": "markdown",
      "id": "a2f027e4",
      "metadata": {
        "id": "a2f027e4"
      },
      "source": [
        "### Applying a deep neural network to our data"
      ]
    },
    {
      "cell_type": "markdown",
      "id": "4590f77f",
      "metadata": {
        "id": "4590f77f"
      },
      "source": [
        "### Combined Multiple Inputs DL Model - FNIRS + EEG"
      ]
    },
    {
      "cell_type": "code",
      "execution_count": 11,
      "id": "f4ec43a6",
      "metadata": {
        "id": "f4ec43a6"
      },
      "outputs": [],
      "source": [
        "if baseline_model:\n",
        "    hybridmodel= models.eeg_fnirs_vgg(Xeeg_train,Xfnirs_train, resnet)\n",
        "else:\n",
        "    hybridmodel=models.eeg_fnirs_cnn_v2()"
      ]
    },
    {
      "cell_type": "code",
      "execution_count": 12,
      "id": "6ef7c1d3",
      "metadata": {
        "colab": {
          "base_uri": "https://localhost:8080/"
        },
        "id": "6ef7c1d3",
        "outputId": "b0800cfe-5ba8-4934-f22f-2c41fbc1b214"
      },
      "outputs": [
        {
          "output_type": "stream",
          "name": "stdout",
          "text": [
            "Model: \"model_2\"\n",
            "__________________________________________________________________________________________________\n",
            " Layer (type)                Output Shape                 Param #   Connected to                  \n",
            "==================================================================================================\n",
            " input_1 (InputLayer)        [(None, 500, 30, 1)]         0         []                            \n",
            "                                                                                                  \n",
            " conv2d (Conv2D)             (None, 494, 30, 32)          256       ['input_1[0][0]']             \n",
            "                                                                                                  \n",
            " conv2d_1 (Conv2D)           (None, 488, 30, 32)          7200      ['conv2d[0][0]']              \n",
            "                                                                                                  \n",
            " conv2d_2 (Conv2D)           (None, 482, 30, 32)          7200      ['conv2d_1[0][0]']            \n",
            "                                                                                                  \n",
            " max_pooling2d (MaxPooling2  (None, 68, 30, 32)           0         ['conv2d_2[0][0]']            \n",
            " D)                                                                                               \n",
            "                                                                                                  \n",
            " input_2 (InputLayer)        [(None, 25, 72, 1)]          0         []                            \n",
            "                                                                                                  \n",
            " dropout (Dropout)           (None, 68, 30, 32)           0         ['max_pooling2d[0][0]']       \n",
            "                                                                                                  \n",
            " conv2d_6 (Conv2D)           (None, 22, 72, 32)           160       ['input_2[0][0]']             \n",
            "                                                                                                  \n",
            " batch_normalization (Batch  (None, 68, 30, 32)           128       ['dropout[0][0]']             \n",
            " Normalization)                                                                                   \n",
            "                                                                                                  \n",
            " conv2d_7 (Conv2D)           (None, 19, 72, 32)           4128      ['conv2d_6[0][0]']            \n",
            "                                                                                                  \n",
            " conv2d_3 (Conv2D)           (None, 65, 27, 64)           32832     ['batch_normalization[0][0]'] \n",
            "                                                                                                  \n",
            " max_pooling2d_2 (MaxPoolin  (None, 4, 72, 32)            0         ['conv2d_7[0][0]']            \n",
            " g2D)                                                                                             \n",
            "                                                                                                  \n",
            " conv2d_4 (Conv2D)           (None, 62, 24, 64)           65600     ['conv2d_3[0][0]']            \n",
            "                                                                                                  \n",
            " dropout_3 (Dropout)         (None, 4, 72, 32)            0         ['max_pooling2d_2[0][0]']     \n",
            "                                                                                                  \n",
            " conv2d_5 (Conv2D)           (None, 59, 21, 64)           65600     ['conv2d_4[0][0]']            \n",
            "                                                                                                  \n",
            " batch_normalization_2 (Bat  (None, 4, 72, 32)            128       ['dropout_3[0][0]']           \n",
            " chNormalization)                                                                                 \n",
            "                                                                                                  \n",
            " max_pooling2d_1 (MaxPoolin  (None, 14, 5, 64)            0         ['conv2d_5[0][0]']            \n",
            " g2D)                                                                                             \n",
            "                                                                                                  \n",
            " conv2d_8 (Conv2D)           (None, 3, 71, 64)            8256      ['batch_normalization_2[0][0]'\n",
            "                                                                    ]                             \n",
            "                                                                                                  \n",
            " dropout_1 (Dropout)         (None, 14, 5, 64)            0         ['max_pooling2d_1[0][0]']     \n",
            "                                                                                                  \n",
            " conv2d_9 (Conv2D)           (None, 2, 70, 64)            16448     ['conv2d_8[0][0]']            \n",
            "                                                                                                  \n",
            " batch_normalization_1 (Bat  (None, 14, 5, 64)            256       ['dropout_1[0][0]']           \n",
            " chNormalization)                                                                                 \n",
            "                                                                                                  \n",
            " max_pooling2d_3 (MaxPoolin  (None, 1, 35, 64)            0         ['conv2d_9[0][0]']            \n",
            " g2D)                                                                                             \n",
            "                                                                                                  \n",
            " flatten (Flatten)           (None, 4480)                 0         ['batch_normalization_1[0][0]'\n",
            "                                                                    ]                             \n",
            "                                                                                                  \n",
            " dropout_4 (Dropout)         (None, 1, 35, 64)            0         ['max_pooling2d_3[0][0]']     \n",
            "                                                                                                  \n",
            " dense (Dense)               (None, 256)                  1147136   ['flatten[0][0]']             \n",
            "                                                                                                  \n",
            " batch_normalization_3 (Bat  (None, 1, 35, 64)            256       ['dropout_4[0][0]']           \n",
            " chNormalization)                                                                                 \n",
            "                                                                                                  \n",
            " dropout_2 (Dropout)         (None, 256)                  0         ['dense[0][0]']               \n",
            "                                                                                                  \n",
            " flatten_1 (Flatten)         (None, 2240)                 0         ['batch_normalization_3[0][0]'\n",
            "                                                                    ]                             \n",
            "                                                                                                  \n",
            " dense_1 (Dense)             (None, 128)                  32896     ['dropout_2[0][0]']           \n",
            "                                                                                                  \n",
            " dense_2 (Dense)             (None, 128)                  286848    ['flatten_1[0][0]']           \n",
            "                                                                                                  \n",
            " concatenate (Concatenate)   (None, 256)                  0         ['dense_1[0][0]',             \n",
            "                                                                     'dense_2[0][0]']             \n",
            "                                                                                                  \n",
            " dense_3 (Dense)             (None, 256)                  65792     ['concatenate[0][0]']         \n",
            "                                                                                                  \n",
            " dropout_5 (Dropout)         (None, 256)                  0         ['dense_3[0][0]']             \n",
            "                                                                                                  \n",
            " lambda (Lambda)             (None, 256)                  0         ['dropout_5[0][0]']           \n",
            "                                                                                                  \n",
            " dense_4 (Dense)             (None, 64)                   16448     ['lambda[0][0]']              \n",
            "                                                                                                  \n",
            " dense_5 (Dense)             (None, 1)                    65        ['dense_4[0][0]']             \n",
            "                                                                                                  \n",
            "==================================================================================================\n",
            "Total params: 1757633 (6.70 MB)\n",
            "Trainable params: 1757249 (6.70 MB)\n",
            "Non-trainable params: 384 (1.50 KB)\n",
            "__________________________________________________________________________________________________\n"
          ]
        }
      ],
      "source": [
        "hybridmodel.summary()"
      ]
    },
    {
      "cell_type": "code",
      "execution_count": 13,
      "id": "41e069ee",
      "metadata": {
        "id": "41e069ee"
      },
      "outputs": [],
      "source": [
        "from tensorflow.keras.optimizers import Adam\n",
        "\n",
        "hybridmodel.compile(optimizer=Adam(learning_rate=lr),loss='binary_crossentropy',metrics=['accuracy','Precision','Recall','AUC'])"
      ]
    },
    {
      "cell_type": "code",
      "execution_count": 14,
      "id": "WvkP81qmR2pt",
      "metadata": {
        "id": "WvkP81qmR2pt"
      },
      "outputs": [],
      "source": [
        "#save best model weights\n",
        "\n",
        "checkpoint_filepath = './tmp/checkpoint'\n",
        "model_checkpoint_callback = tf.keras.callbacks.ModelCheckpoint(\n",
        "    filepath=checkpoint_filepath,\n",
        "    save_weights_only=True,\n",
        "    monitor='val_accuracy',\n",
        "    mode='max',\n",
        "    save_best_only=True,\n",
        "    verbose=1)"
      ]
    },
    {
      "cell_type": "code",
      "execution_count": 15,
      "id": "6cbfc1ef",
      "metadata": {
        "id": "6cbfc1ef",
        "scrolled": false,
        "colab": {
          "base_uri": "https://localhost:8080/"
        },
        "outputId": "b495eee5-067a-4153-bd33-3ec1b2512457"
      },
      "outputs": [
        {
          "output_type": "stream",
          "name": "stdout",
          "text": [
            "Epoch 1/60\n",
            "233/234 [============================>.] - ETA: 0s - loss: 0.6875 - accuracy: 0.5459 - precision: 0.5467 - recall: 0.5231 - auc: 0.5650\n",
            "Epoch 1: val_accuracy improved from -inf to 0.61111, saving model to ./tmp/checkpoint\n",
            "234/234 [==============================] - 23s 34ms/step - loss: 0.6873 - accuracy: 0.5463 - precision: 0.5469 - recall: 0.5238 - auc: 0.5657 - val_loss: 0.6609 - val_accuracy: 0.6111 - val_precision: 0.6447 - val_recall: 0.5169 - val_auc: 0.6572\n",
            "Epoch 2/60\n",
            "233/234 [============================>.] - ETA: 0s - loss: 0.6583 - accuracy: 0.6149 - precision: 0.5985 - recall: 0.6911 - auc: 0.6490\n",
            "Epoch 2: val_accuracy improved from 0.61111 to 0.64476, saving model to ./tmp/checkpoint\n",
            "234/234 [==============================] - 8s 35ms/step - loss: 0.6581 - accuracy: 0.6154 - precision: 0.5988 - recall: 0.6919 - auc: 0.6494 - val_loss: 0.6349 - val_accuracy: 0.6448 - val_precision: 0.6715 - val_recall: 0.5844 - val_auc: 0.7038\n",
            "Epoch 3/60\n",
            "234/234 [==============================] - ETA: 0s - loss: 0.6291 - accuracy: 0.6412 - precision: 0.6209 - recall: 0.7192 - auc: 0.6985\n",
            "Epoch 3: val_accuracy improved from 0.64476 to 0.64690, saving model to ./tmp/checkpoint\n",
            "234/234 [==============================] - 6s 27ms/step - loss: 0.6291 - accuracy: 0.6412 - precision: 0.6209 - recall: 0.7192 - auc: 0.6985 - val_loss: 0.6033 - val_accuracy: 0.6469 - val_precision: 0.6131 - val_recall: 0.8207 - val_auc: 0.7337\n",
            "Epoch 4/60\n",
            "234/234 [==============================] - ETA: 0s - loss: 0.6051 - accuracy: 0.6591 - precision: 0.6513 - recall: 0.6798 - auc: 0.7295\n",
            "Epoch 4: val_accuracy improved from 0.64690 to 0.69231, saving model to ./tmp/checkpoint\n",
            "234/234 [==============================] - 6s 28ms/step - loss: 0.6051 - accuracy: 0.6591 - precision: 0.6513 - recall: 0.6798 - auc: 0.7295 - val_loss: 0.5718 - val_accuracy: 0.6923 - val_precision: 0.6799 - val_recall: 0.7416 - val_auc: 0.7678\n",
            "Epoch 5/60\n",
            "234/234 [==============================] - ETA: 0s - loss: 0.5659 - accuracy: 0.6938 - precision: 0.6671 - recall: 0.7698 - auc: 0.7731\n",
            "Epoch 5: val_accuracy improved from 0.69231 to 0.71581, saving model to ./tmp/checkpoint\n",
            "234/234 [==============================] - 6s 27ms/step - loss: 0.5659 - accuracy: 0.6938 - precision: 0.6671 - recall: 0.7698 - auc: 0.7731 - val_loss: 0.5240 - val_accuracy: 0.7158 - val_precision: 0.6933 - val_recall: 0.7869 - val_auc: 0.8093\n",
            "Epoch 6/60\n",
            "233/234 [============================>.] - ETA: 0s - loss: 0.5258 - accuracy: 0.7242 - precision: 0.7329 - recall: 0.7017 - auc: 0.8108\n",
            "Epoch 6: val_accuracy improved from 0.71581 to 0.73024, saving model to ./tmp/checkpoint\n",
            "234/234 [==============================] - 6s 28ms/step - loss: 0.5255 - accuracy: 0.7248 - precision: 0.7340 - recall: 0.7023 - auc: 0.8112 - val_loss: 0.4858 - val_accuracy: 0.7302 - val_precision: 0.7957 - val_recall: 0.6287 - val_auc: 0.8479\n",
            "Epoch 7/60\n",
            "232/234 [============================>.] - ETA: 0s - loss: 0.4754 - accuracy: 0.7625 - precision: 0.7485 - recall: 0.7895 - auc: 0.8492\n",
            "Epoch 7: val_accuracy improved from 0.73024 to 0.77030, saving model to ./tmp/checkpoint\n",
            "234/234 [==============================] - 6s 27ms/step - loss: 0.4748 - accuracy: 0.7627 - precision: 0.7488 - recall: 0.7883 - auc: 0.8495 - val_loss: 0.4614 - val_accuracy: 0.7703 - val_precision: 0.8529 - val_recall: 0.6603 - val_auc: 0.8758\n",
            "Epoch 8/60\n",
            "232/234 [============================>.] - ETA: 0s - loss: 0.4307 - accuracy: 0.7905 - precision: 0.7845 - recall: 0.7996 - auc: 0.8807\n",
            "Epoch 8: val_accuracy improved from 0.77030 to 0.80662, saving model to ./tmp/checkpoint\n",
            "234/234 [==============================] - 6s 27ms/step - loss: 0.4311 - accuracy: 0.7902 - precision: 0.7834 - recall: 0.8004 - auc: 0.8804 - val_loss: 0.3905 - val_accuracy: 0.8066 - val_precision: 0.7659 - val_recall: 0.8903 - val_auc: 0.9061\n",
            "Epoch 9/60\n",
            "233/234 [============================>.] - ETA: 0s - loss: 0.3882 - accuracy: 0.8169 - precision: 0.8080 - recall: 0.8295 - auc: 0.9051\n",
            "Epoch 9: val_accuracy improved from 0.80662 to 0.83600, saving model to ./tmp/checkpoint\n",
            "234/234 [==============================] - 6s 27ms/step - loss: 0.3882 - accuracy: 0.8166 - precision: 0.8077 - recall: 0.8296 - auc: 0.9051 - val_loss: 0.3777 - val_accuracy: 0.8360 - val_precision: 0.8495 - val_recall: 0.8217 - val_auc: 0.9177\n",
            "Epoch 10/60\n",
            "232/234 [============================>.] - ETA: 0s - loss: 0.3349 - accuracy: 0.8518 - precision: 0.8526 - recall: 0.8499 - auc: 0.9306\n",
            "Epoch 10: val_accuracy improved from 0.83600 to 0.84455, saving model to ./tmp/checkpoint\n",
            "234/234 [==============================] - 6s 27ms/step - loss: 0.3346 - accuracy: 0.8523 - precision: 0.8530 - recall: 0.8502 - auc: 0.9308 - val_loss: 0.3429 - val_accuracy: 0.8446 - val_precision: 0.8308 - val_recall: 0.8703 - val_auc: 0.9299\n",
            "Epoch 11/60\n",
            "232/234 [============================>.] - ETA: 0s - loss: 0.3087 - accuracy: 0.8615 - precision: 0.8615 - recall: 0.8601 - auc: 0.9415\n",
            "Epoch 11: val_accuracy improved from 0.84455 to 0.87233, saving model to ./tmp/checkpoint\n",
            "234/234 [==============================] - 6s 26ms/step - loss: 0.3084 - accuracy: 0.8618 - precision: 0.8622 - recall: 0.8601 - auc: 0.9416 - val_loss: 0.2862 - val_accuracy: 0.8723 - val_precision: 0.8900 - val_recall: 0.8534 - val_auc: 0.9496\n",
            "Epoch 12/60\n",
            "233/234 [============================>.] - ETA: 0s - loss: 0.2779 - accuracy: 0.8788 - precision: 0.8721 - recall: 0.8866 - auc: 0.9527\n",
            "Epoch 12: val_accuracy improved from 0.87233 to 0.90171, saving model to ./tmp/checkpoint\n",
            "234/234 [==============================] - 6s 28ms/step - loss: 0.2780 - accuracy: 0.8787 - precision: 0.8722 - recall: 0.8867 - auc: 0.9526 - val_loss: 0.2496 - val_accuracy: 0.9017 - val_precision: 0.9038 - val_recall: 0.9019 - val_auc: 0.9640\n",
            "Epoch 13/60\n",
            "234/234 [==============================] - ETA: 0s - loss: 0.2475 - accuracy: 0.8948 - precision: 0.8917 - recall: 0.8979 - auc: 0.9626\n",
            "Epoch 13: val_accuracy improved from 0.90171 to 0.91079, saving model to ./tmp/checkpoint\n",
            "234/234 [==============================] - 6s 27ms/step - loss: 0.2475 - accuracy: 0.8948 - precision: 0.8917 - recall: 0.8979 - auc: 0.9626 - val_loss: 0.2291 - val_accuracy: 0.9108 - val_precision: 0.9268 - val_recall: 0.8945 - val_auc: 0.9698\n",
            "Epoch 14/60\n",
            "232/234 [============================>.] - ETA: 0s - loss: 0.2263 - accuracy: 0.9009 - precision: 0.9028 - recall: 0.8979 - auc: 0.9687\n",
            "Epoch 14: val_accuracy did not improve from 0.91079\n",
            "234/234 [==============================] - 6s 26ms/step - loss: 0.2259 - accuracy: 0.9012 - precision: 0.9032 - recall: 0.8979 - auc: 0.9688 - val_loss: 0.2412 - val_accuracy: 0.9087 - val_precision: 0.9360 - val_recall: 0.8797 - val_auc: 0.9677\n",
            "Epoch 15/60\n",
            "234/234 [==============================] - ETA: 0s - loss: 0.2088 - accuracy: 0.9141 - precision: 0.9057 - recall: 0.9239 - auc: 0.9730\n",
            "Epoch 15: val_accuracy improved from 0.91079 to 0.93269, saving model to ./tmp/checkpoint\n",
            "234/234 [==============================] - 6s 27ms/step - loss: 0.2088 - accuracy: 0.9141 - precision: 0.9057 - recall: 0.9239 - auc: 0.9730 - val_loss: 0.2098 - val_accuracy: 0.9327 - val_precision: 0.9419 - val_recall: 0.9241 - val_auc: 0.9734\n",
            "Epoch 16/60\n",
            "233/234 [============================>.] - ETA: 0s - loss: 0.1927 - accuracy: 0.9193 - precision: 0.9158 - recall: 0.9227 - auc: 0.9774\n",
            "Epoch 16: val_accuracy did not improve from 0.93269\n",
            "234/234 [==============================] - 6s 26ms/step - loss: 0.1922 - accuracy: 0.9195 - precision: 0.9162 - recall: 0.9228 - auc: 0.9775 - val_loss: 0.1796 - val_accuracy: 0.9327 - val_precision: 0.9649 - val_recall: 0.8998 - val_auc: 0.9821\n",
            "Epoch 17/60\n",
            "233/234 [============================>.] - ETA: 0s - loss: 0.1770 - accuracy: 0.9289 - precision: 0.9238 - recall: 0.9342 - auc: 0.9806\n",
            "Epoch 17: val_accuracy improved from 0.93269 to 0.95032, saving model to ./tmp/checkpoint\n",
            "234/234 [==============================] - 6s 27ms/step - loss: 0.1772 - accuracy: 0.9288 - precision: 0.9242 - recall: 0.9338 - auc: 0.9805 - val_loss: 0.1441 - val_accuracy: 0.9503 - val_precision: 0.9652 - val_recall: 0.9357 - val_auc: 0.9855\n",
            "Epoch 18/60\n",
            "233/234 [============================>.] - ETA: 0s - loss: 0.1564 - accuracy: 0.9343 - precision: 0.9307 - recall: 0.9382 - auc: 0.9851\n",
            "Epoch 18: val_accuracy did not improve from 0.95032\n",
            "234/234 [==============================] - 6s 27ms/step - loss: 0.1571 - accuracy: 0.9340 - precision: 0.9304 - recall: 0.9378 - auc: 0.9849 - val_loss: 0.2093 - val_accuracy: 0.9343 - val_precision: 0.9508 - val_recall: 0.9177 - val_auc: 0.9771\n",
            "Epoch 19/60\n",
            "232/234 [============================>.] - ETA: 0s - loss: 0.1541 - accuracy: 0.9432 - precision: 0.9418 - recall: 0.9443 - auc: 0.9847\n",
            "Epoch 19: val_accuracy did not improve from 0.95032\n",
            "234/234 [==============================] - 6s 25ms/step - loss: 0.1560 - accuracy: 0.9424 - precision: 0.9407 - recall: 0.9440 - auc: 0.9844 - val_loss: 0.1607 - val_accuracy: 0.9466 - val_precision: 0.9609 - val_recall: 0.9325 - val_auc: 0.9840\n",
            "Epoch 20/60\n",
            "233/234 [============================>.] - ETA: 0s - loss: 0.1440 - accuracy: 0.9430 - precision: 0.9423 - recall: 0.9436 - auc: 0.9871\n",
            "Epoch 20: val_accuracy improved from 0.95032 to 0.95887, saving model to ./tmp/checkpoint\n",
            "234/234 [==============================] - 6s 27ms/step - loss: 0.1441 - accuracy: 0.9431 - precision: 0.9422 - recall: 0.9437 - auc: 0.9871 - val_loss: 0.1279 - val_accuracy: 0.9589 - val_precision: 0.9532 - val_recall: 0.9662 - val_auc: 0.9887\n",
            "Epoch 21/60\n",
            "232/234 [============================>.] - ETA: 0s - loss: 0.1263 - accuracy: 0.9522 - precision: 0.9534 - recall: 0.9506 - auc: 0.9896\n",
            "Epoch 21: val_accuracy did not improve from 0.95887\n",
            "234/234 [==============================] - 6s 26ms/step - loss: 0.1266 - accuracy: 0.9521 - precision: 0.9530 - recall: 0.9507 - auc: 0.9896 - val_loss: 0.1472 - val_accuracy: 0.9498 - val_precision: 0.9245 - val_recall: 0.9810 - val_auc: 0.9875\n",
            "Epoch 22/60\n",
            "232/234 [============================>.] - ETA: 0s - loss: 0.1279 - accuracy: 0.9496 - precision: 0.9497 - recall: 0.9492 - auc: 0.9898\n",
            "Epoch 22: val_accuracy improved from 0.95887 to 0.96528, saving model to ./tmp/checkpoint\n",
            "234/234 [==============================] - 6s 27ms/step - loss: 0.1276 - accuracy: 0.9497 - precision: 0.9496 - recall: 0.9494 - auc: 0.9899 - val_loss: 0.1081 - val_accuracy: 0.9653 - val_precision: 0.9712 - val_recall: 0.9599 - val_auc: 0.9918\n",
            "Epoch 23/60\n",
            "233/234 [============================>.] - ETA: 0s - loss: 0.1221 - accuracy: 0.9549 - precision: 0.9543 - recall: 0.9553 - auc: 0.9904\n",
            "Epoch 23: val_accuracy did not improve from 0.96528\n",
            "234/234 [==============================] - 6s 28ms/step - loss: 0.1221 - accuracy: 0.9549 - precision: 0.9542 - recall: 0.9553 - auc: 0.9904 - val_loss: 0.1127 - val_accuracy: 0.9626 - val_precision: 0.9563 - val_recall: 0.9705 - val_auc: 0.9918\n",
            "Epoch 24/60\n",
            "232/234 [============================>.] - ETA: 0s - loss: 0.1111 - accuracy: 0.9573 - precision: 0.9607 - recall: 0.9532 - auc: 0.9920\n",
            "Epoch 24: val_accuracy did not improve from 0.96528\n",
            "234/234 [==============================] - 6s 26ms/step - loss: 0.1110 - accuracy: 0.9573 - precision: 0.9611 - recall: 0.9528 - auc: 0.9920 - val_loss: 0.1190 - val_accuracy: 0.9653 - val_precision: 0.9538 - val_recall: 0.9789 - val_auc: 0.9914\n",
            "Epoch 25/60\n",
            "233/234 [============================>.] - ETA: 0s - loss: 0.1027 - accuracy: 0.9619 - precision: 0.9605 - recall: 0.9631 - auc: 0.9931\n",
            "Epoch 25: val_accuracy improved from 0.96528 to 0.97062, saving model to ./tmp/checkpoint\n",
            "234/234 [==============================] - 6s 28ms/step - loss: 0.1023 - accuracy: 0.9621 - precision: 0.9607 - recall: 0.9633 - auc: 0.9931 - val_loss: 0.0953 - val_accuracy: 0.9706 - val_precision: 0.9715 - val_recall: 0.9705 - val_auc: 0.9921\n",
            "Epoch 26/60\n",
            "233/234 [============================>.] - ETA: 0s - loss: 0.0926 - accuracy: 0.9658 - precision: 0.9648 - recall: 0.9666 - auc: 0.9941\n",
            "Epoch 26: val_accuracy did not improve from 0.97062\n",
            "234/234 [==============================] - 6s 25ms/step - loss: 0.0925 - accuracy: 0.9659 - precision: 0.9650 - recall: 0.9668 - auc: 0.9941 - val_loss: 0.1515 - val_accuracy: 0.9498 - val_precision: 0.9703 - val_recall: 0.9293 - val_auc: 0.9872\n",
            "Epoch 27/60\n",
            "232/234 [============================>.] - ETA: 0s - loss: 0.0984 - accuracy: 0.9627 - precision: 0.9613 - recall: 0.9641 - auc: 0.9934\n",
            "Epoch 27: val_accuracy did not improve from 0.97062\n",
            "234/234 [==============================] - 6s 26ms/step - loss: 0.0987 - accuracy: 0.9627 - precision: 0.9613 - recall: 0.9641 - auc: 0.9934 - val_loss: 0.1069 - val_accuracy: 0.9685 - val_precision: 0.9764 - val_recall: 0.9610 - val_auc: 0.9913\n",
            "Epoch 28/60\n",
            "232/234 [============================>.] - ETA: 0s - loss: 0.0920 - accuracy: 0.9666 - precision: 0.9640 - recall: 0.9692 - auc: 0.9938\n",
            "Epoch 28: val_accuracy did not improve from 0.97062\n",
            "234/234 [==============================] - 6s 26ms/step - loss: 0.0923 - accuracy: 0.9663 - precision: 0.9640 - recall: 0.9686 - auc: 0.9937 - val_loss: 0.1041 - val_accuracy: 0.9674 - val_precision: 0.9753 - val_recall: 0.9599 - val_auc: 0.9917\n",
            "Epoch 29/60\n",
            "234/234 [==============================] - ETA: 0s - loss: 0.0845 - accuracy: 0.9698 - precision: 0.9695 - recall: 0.9700 - auc: 0.9949\n",
            "Epoch 29: val_accuracy did not improve from 0.97062\n",
            "234/234 [==============================] - 6s 27ms/step - loss: 0.0845 - accuracy: 0.9698 - precision: 0.9695 - recall: 0.9700 - auc: 0.9949 - val_loss: 0.1074 - val_accuracy: 0.9685 - val_precision: 0.9847 - val_recall: 0.9525 - val_auc: 0.9917\n",
            "Epoch 30/60\n",
            "234/234 [==============================] - ETA: 0s - loss: 0.0949 - accuracy: 0.9646 - precision: 0.9656 - recall: 0.9633 - auc: 0.9936\n",
            "Epoch 30: val_accuracy did not improve from 0.97062\n",
            "234/234 [==============================] - 6s 26ms/step - loss: 0.0949 - accuracy: 0.9646 - precision: 0.9656 - recall: 0.9633 - auc: 0.9936 - val_loss: 0.1161 - val_accuracy: 0.9679 - val_precision: 0.9596 - val_recall: 0.9778 - val_auc: 0.9897\n",
            "Epoch 31/60\n",
            "234/234 [==============================] - ETA: 0s - loss: 0.0876 - accuracy: 0.9679 - precision: 0.9681 - recall: 0.9676 - auc: 0.9944\n",
            "Epoch 31: val_accuracy did not improve from 0.97062\n",
            "234/234 [==============================] - 6s 26ms/step - loss: 0.0876 - accuracy: 0.9679 - precision: 0.9681 - recall: 0.9676 - auc: 0.9944 - val_loss: 0.1373 - val_accuracy: 0.9663 - val_precision: 0.9763 - val_recall: 0.9568 - val_auc: 0.9875\n",
            "Epoch 32/60\n",
            "232/234 [============================>.] - ETA: 0s - loss: 0.0851 - accuracy: 0.9685 - precision: 0.9704 - recall: 0.9662 - auc: 0.9951\n",
            "Epoch 32: val_accuracy did not improve from 0.97062\n",
            "234/234 [==============================] - 6s 26ms/step - loss: 0.0849 - accuracy: 0.9685 - precision: 0.9707 - recall: 0.9660 - auc: 0.9951 - val_loss: 0.1158 - val_accuracy: 0.9674 - val_precision: 0.9654 - val_recall: 0.9705 - val_auc: 0.9887\n",
            "Epoch 33/60\n",
            "233/234 [============================>.] - ETA: 0s - loss: 0.0794 - accuracy: 0.9709 - precision: 0.9706 - recall: 0.9709 - auc: 0.9956\n",
            "Epoch 33: val_accuracy did not improve from 0.97062\n",
            "234/234 [==============================] - 6s 25ms/step - loss: 0.0795 - accuracy: 0.9709 - precision: 0.9708 - recall: 0.9708 - auc: 0.9955 - val_loss: 0.1300 - val_accuracy: 0.9626 - val_precision: 0.9731 - val_recall: 0.9525 - val_auc: 0.9890\n",
            "Epoch 34/60\n",
            "234/234 [==============================] - ETA: 0s - loss: 0.1373 - accuracy: 0.9482 - precision: 0.9435 - recall: 0.9531 - auc: 0.9881\n",
            "Epoch 34: val_accuracy improved from 0.97062 to 0.97436, saving model to ./tmp/checkpoint\n",
            "234/234 [==============================] - 6s 27ms/step - loss: 0.1373 - accuracy: 0.9482 - precision: 0.9435 - recall: 0.9531 - auc: 0.9881 - val_loss: 0.0920 - val_accuracy: 0.9744 - val_precision: 0.9787 - val_recall: 0.9705 - val_auc: 0.9932\n",
            "Epoch 35/60\n",
            "232/234 [============================>.] - ETA: 0s - loss: 0.0873 - accuracy: 0.9675 - precision: 0.9663 - recall: 0.9687 - auc: 0.9942\n",
            "Epoch 35: val_accuracy did not improve from 0.97436\n",
            "234/234 [==============================] - 6s 26ms/step - loss: 0.0872 - accuracy: 0.9675 - precision: 0.9663 - recall: 0.9686 - auc: 0.9942 - val_loss: 0.0908 - val_accuracy: 0.9717 - val_precision: 0.9756 - val_recall: 0.9684 - val_auc: 0.9934\n",
            "Epoch 36/60\n",
            "233/234 [============================>.] - ETA: 0s - loss: 0.0753 - accuracy: 0.9714 - precision: 0.9707 - recall: 0.9720 - auc: 0.9959\n",
            "Epoch 36: val_accuracy did not improve from 0.97436\n",
            "234/234 [==============================] - 6s 27ms/step - loss: 0.0751 - accuracy: 0.9716 - precision: 0.9708 - recall: 0.9721 - auc: 0.9959 - val_loss: 0.0876 - val_accuracy: 0.9722 - val_precision: 0.9786 - val_recall: 0.9662 - val_auc: 0.9945\n",
            "Epoch 37/60\n",
            "233/234 [============================>.] - ETA: 0s - loss: 0.0707 - accuracy: 0.9748 - precision: 0.9765 - recall: 0.9728 - auc: 0.9964\n",
            "Epoch 37: val_accuracy did not improve from 0.97436\n",
            "234/234 [==============================] - 6s 25ms/step - loss: 0.0706 - accuracy: 0.9748 - precision: 0.9766 - recall: 0.9727 - auc: 0.9964 - val_loss: 0.0973 - val_accuracy: 0.9728 - val_precision: 0.9787 - val_recall: 0.9673 - val_auc: 0.9919\n",
            "Epoch 38/60\n",
            "233/234 [============================>.] - ETA: 0s - loss: 0.0714 - accuracy: 0.9742 - precision: 0.9775 - recall: 0.9707 - auc: 0.9964\n",
            "Epoch 38: val_accuracy did not improve from 0.97436\n",
            "234/234 [==============================] - 6s 27ms/step - loss: 0.0715 - accuracy: 0.9742 - precision: 0.9773 - recall: 0.9708 - auc: 0.9964 - val_loss: 0.0964 - val_accuracy: 0.9712 - val_precision: 0.9686 - val_recall: 0.9747 - val_auc: 0.9918\n",
            "Epoch 39/60\n",
            "233/234 [============================>.] - ETA: 0s - loss: 0.0647 - accuracy: 0.9765 - precision: 0.9784 - recall: 0.9745 - auc: 0.9965\n",
            "Epoch 39: val_accuracy improved from 0.97436 to 0.97970, saving model to ./tmp/checkpoint\n",
            "234/234 [==============================] - 6s 26ms/step - loss: 0.0648 - accuracy: 0.9765 - precision: 0.9782 - recall: 0.9745 - auc: 0.9965 - val_loss: 0.0645 - val_accuracy: 0.9797 - val_precision: 0.9840 - val_recall: 0.9757 - val_auc: 0.9947\n",
            "Epoch 40/60\n",
            "233/234 [============================>.] - ETA: 0s - loss: 0.0689 - accuracy: 0.9757 - precision: 0.9763 - recall: 0.9750 - auc: 0.9965\n",
            "Epoch 40: val_accuracy did not improve from 0.97970\n",
            "234/234 [==============================] - 6s 26ms/step - loss: 0.0691 - accuracy: 0.9757 - precision: 0.9764 - recall: 0.9748 - auc: 0.9965 - val_loss: 0.1193 - val_accuracy: 0.9696 - val_precision: 0.9685 - val_recall: 0.9715 - val_auc: 0.9896\n",
            "Epoch 41/60\n",
            "232/234 [============================>.] - ETA: 0s - loss: 0.0614 - accuracy: 0.9793 - precision: 0.9803 - recall: 0.9782 - auc: 0.9970\n",
            "Epoch 41: val_accuracy did not improve from 0.97970\n",
            "234/234 [==============================] - 6s 25ms/step - loss: 0.0611 - accuracy: 0.9793 - precision: 0.9801 - recall: 0.9783 - auc: 0.9970 - val_loss: 0.1038 - val_accuracy: 0.9733 - val_precision: 0.9706 - val_recall: 0.9768 - val_auc: 0.9912\n",
            "Epoch 42/60\n",
            "233/234 [============================>.] - ETA: 0s - loss: 0.0653 - accuracy: 0.9775 - precision: 0.9771 - recall: 0.9777 - auc: 0.9966\n",
            "Epoch 42: val_accuracy did not improve from 0.97970\n",
            "234/234 [==============================] - 6s 26ms/step - loss: 0.0651 - accuracy: 0.9776 - precision: 0.9772 - recall: 0.9778 - auc: 0.9966 - val_loss: 0.0842 - val_accuracy: 0.9754 - val_precision: 0.9718 - val_recall: 0.9800 - val_auc: 0.9940\n",
            "Epoch 43/60\n",
            "233/234 [============================>.] - ETA: 0s - loss: 0.0541 - accuracy: 0.9807 - precision: 0.9814 - recall: 0.9798 - auc: 0.9978\n",
            "Epoch 43: val_accuracy did not improve from 0.97970\n",
            "234/234 [==============================] - 6s 26ms/step - loss: 0.0539 - accuracy: 0.9808 - precision: 0.9815 - recall: 0.9799 - auc: 0.9979 - val_loss: 0.1040 - val_accuracy: 0.9754 - val_precision: 0.9767 - val_recall: 0.9747 - val_auc: 0.9914\n",
            "Epoch 44/60\n",
            "234/234 [==============================] - ETA: 0s - loss: 0.0603 - accuracy: 0.9781 - precision: 0.9783 - recall: 0.9778 - auc: 0.9973\n",
            "Epoch 44: val_accuracy did not improve from 0.97970\n",
            "234/234 [==============================] - 6s 25ms/step - loss: 0.0603 - accuracy: 0.9781 - precision: 0.9783 - recall: 0.9778 - auc: 0.9973 - val_loss: 0.0965 - val_accuracy: 0.9744 - val_precision: 0.9808 - val_recall: 0.9684 - val_auc: 0.9929\n",
            "Epoch 45/60\n",
            "234/234 [==============================] - ETA: 0s - loss: 0.0602 - accuracy: 0.9790 - precision: 0.9794 - recall: 0.9786 - auc: 0.9970\n",
            "Epoch 45: val_accuracy did not improve from 0.97970\n",
            "234/234 [==============================] - 7s 28ms/step - loss: 0.0602 - accuracy: 0.9790 - precision: 0.9794 - recall: 0.9786 - auc: 0.9970 - val_loss: 0.0980 - val_accuracy: 0.9770 - val_precision: 0.9748 - val_recall: 0.9800 - val_auc: 0.9917\n",
            "Epoch 46/60\n",
            "232/234 [============================>.] - ETA: 0s - loss: 0.0551 - accuracy: 0.9806 - precision: 0.9787 - recall: 0.9824 - auc: 0.9972\n",
            "Epoch 46: val_accuracy did not improve from 0.97970\n",
            "234/234 [==============================] - 6s 26ms/step - loss: 0.0561 - accuracy: 0.9802 - precision: 0.9789 - recall: 0.9815 - auc: 0.9972 - val_loss: 0.1181 - val_accuracy: 0.9696 - val_precision: 0.9837 - val_recall: 0.9557 - val_auc: 0.9910\n",
            "Epoch 47/60\n",
            "233/234 [============================>.] - ETA: 0s - loss: 0.0563 - accuracy: 0.9808 - precision: 0.9806 - recall: 0.9809 - auc: 0.9971\n",
            "Epoch 47: val_accuracy did not improve from 0.97970\n",
            "234/234 [==============================] - 6s 26ms/step - loss: 0.0565 - accuracy: 0.9808 - precision: 0.9804 - recall: 0.9810 - auc: 0.9971 - val_loss: 0.0786 - val_accuracy: 0.9776 - val_precision: 0.9789 - val_recall: 0.9768 - val_auc: 0.9942\n",
            "Epoch 48/60\n",
            "233/234 [============================>.] - ETA: 0s - loss: 0.0546 - accuracy: 0.9810 - precision: 0.9822 - recall: 0.9795 - auc: 0.9974\n",
            "Epoch 48: val_accuracy did not improve from 0.97970\n",
            "234/234 [==============================] - 6s 26ms/step - loss: 0.0544 - accuracy: 0.9810 - precision: 0.9823 - recall: 0.9796 - auc: 0.9974 - val_loss: 0.1078 - val_accuracy: 0.9696 - val_precision: 0.9848 - val_recall: 0.9546 - val_auc: 0.9928\n",
            "Epoch 49/60\n",
            "234/234 [==============================] - ETA: 0s - loss: 0.0456 - accuracy: 0.9834 - precision: 0.9852 - recall: 0.9815 - auc: 0.9982\n",
            "Epoch 49: val_accuracy did not improve from 0.97970\n",
            "234/234 [==============================] - 6s 27ms/step - loss: 0.0456 - accuracy: 0.9834 - precision: 0.9852 - recall: 0.9815 - auc: 0.9982 - val_loss: 0.0904 - val_accuracy: 0.9754 - val_precision: 0.9778 - val_recall: 0.9736 - val_auc: 0.9935\n",
            "Epoch 50/60\n",
            "232/234 [============================>.] - ETA: 0s - loss: 0.0552 - accuracy: 0.9815 - precision: 0.9824 - recall: 0.9806 - auc: 0.9976\n",
            "Epoch 50: val_accuracy did not improve from 0.97970\n",
            "234/234 [==============================] - 6s 26ms/step - loss: 0.0550 - accuracy: 0.9817 - precision: 0.9826 - recall: 0.9807 - auc: 0.9976 - val_loss: 0.0876 - val_accuracy: 0.9776 - val_precision: 0.9748 - val_recall: 0.9810 - val_auc: 0.9931\n",
            "Epoch 51/60\n",
            "234/234 [==============================] - ETA: 0s - loss: 0.0501 - accuracy: 0.9825 - precision: 0.9813 - recall: 0.9837 - auc: 0.9978\n",
            "Epoch 51: val_accuracy did not improve from 0.97970\n",
            "234/234 [==============================] - 6s 26ms/step - loss: 0.0501 - accuracy: 0.9825 - precision: 0.9813 - recall: 0.9837 - auc: 0.9978 - val_loss: 0.0857 - val_accuracy: 0.9770 - val_precision: 0.9778 - val_recall: 0.9768 - val_auc: 0.9949\n",
            "Epoch 52/60\n",
            "232/234 [============================>.] - ETA: 0s - loss: 0.0560 - accuracy: 0.9799 - precision: 0.9785 - recall: 0.9814 - auc: 0.9977\n",
            "Epoch 52: val_accuracy did not improve from 0.97970\n",
            "234/234 [==============================] - 6s 26ms/step - loss: 0.0557 - accuracy: 0.9800 - precision: 0.9786 - recall: 0.9812 - auc: 0.9977 - val_loss: 0.1154 - val_accuracy: 0.9744 - val_precision: 0.9688 - val_recall: 0.9810 - val_auc: 0.9898\n",
            "Epoch 53/60\n",
            "233/234 [============================>.] - ETA: 0s - loss: 0.0538 - accuracy: 0.9819 - precision: 0.9825 - recall: 0.9811 - auc: 0.9974\n",
            "Epoch 53: val_accuracy did not improve from 0.97970\n",
            "234/234 [==============================] - 6s 26ms/step - loss: 0.0537 - accuracy: 0.9820 - precision: 0.9826 - recall: 0.9812 - auc: 0.9974 - val_loss: 0.1183 - val_accuracy: 0.9754 - val_precision: 0.9708 - val_recall: 0.9810 - val_auc: 0.9908\n",
            "Epoch 54/60\n",
            "232/234 [============================>.] - ETA: 0s - loss: 0.0502 - accuracy: 0.9832 - precision: 0.9832 - recall: 0.9830 - auc: 0.9976\n",
            "Epoch 54: val_accuracy did not improve from 0.97970\n",
            "234/234 [==============================] - 6s 27ms/step - loss: 0.0504 - accuracy: 0.9829 - precision: 0.9834 - recall: 0.9823 - auc: 0.9976 - val_loss: 0.0956 - val_accuracy: 0.9765 - val_precision: 0.9809 - val_recall: 0.9726 - val_auc: 0.9931\n",
            "Epoch 55/60\n",
            "234/234 [==============================] - ETA: 0s - loss: 0.0500 - accuracy: 0.9838 - precision: 0.9842 - recall: 0.9834 - auc: 0.9977\n",
            "Epoch 55: val_accuracy did not improve from 0.97970\n",
            "234/234 [==============================] - 6s 26ms/step - loss: 0.0500 - accuracy: 0.9838 - precision: 0.9842 - recall: 0.9834 - auc: 0.9977 - val_loss: 0.0990 - val_accuracy: 0.9797 - val_precision: 0.9830 - val_recall: 0.9768 - val_auc: 0.9926\n",
            "Epoch 56/60\n",
            "233/234 [============================>.] - ETA: 0s - loss: 0.0580 - accuracy: 0.9820 - precision: 0.9833 - recall: 0.9806 - auc: 0.9965\n",
            "Epoch 56: val_accuracy did not improve from 0.97970\n",
            "234/234 [==============================] - 6s 26ms/step - loss: 0.0578 - accuracy: 0.9821 - precision: 0.9833 - recall: 0.9807 - auc: 0.9965 - val_loss: 0.0913 - val_accuracy: 0.9770 - val_precision: 0.9809 - val_recall: 0.9736 - val_auc: 0.9930\n",
            "Epoch 57/60\n",
            "233/234 [============================>.] - ETA: 0s - loss: 0.0514 - accuracy: 0.9819 - precision: 0.9825 - recall: 0.9811 - auc: 0.9980\n",
            "Epoch 57: val_accuracy did not improve from 0.97970\n",
            "234/234 [==============================] - 6s 25ms/step - loss: 0.0515 - accuracy: 0.9818 - precision: 0.9826 - recall: 0.9810 - auc: 0.9980 - val_loss: 0.0911 - val_accuracy: 0.9781 - val_precision: 0.9871 - val_recall: 0.9694 - val_auc: 0.9932\n",
            "Epoch 58/60\n",
            "232/234 [============================>.] - ETA: 0s - loss: 0.0428 - accuracy: 0.9846 - precision: 0.9846 - recall: 0.9846 - auc: 0.9989\n",
            "Epoch 58: val_accuracy improved from 0.97970 to 0.98237, saving model to ./tmp/checkpoint\n",
            "234/234 [==============================] - 6s 27ms/step - loss: 0.0427 - accuracy: 0.9846 - precision: 0.9845 - recall: 0.9847 - auc: 0.9989 - val_loss: 0.0893 - val_accuracy: 0.9824 - val_precision: 0.9801 - val_recall: 0.9852 - val_auc: 0.9930\n",
            "Epoch 59/60\n",
            "234/234 [==============================] - ETA: 0s - loss: 0.0479 - accuracy: 0.9813 - precision: 0.9792 - recall: 0.9834 - auc: 0.9981\n",
            "Epoch 59: val_accuracy did not improve from 0.98237\n",
            "234/234 [==============================] - 6s 25ms/step - loss: 0.0479 - accuracy: 0.9813 - precision: 0.9792 - recall: 0.9834 - auc: 0.9981 - val_loss: 0.0976 - val_accuracy: 0.9754 - val_precision: 0.9767 - val_recall: 0.9747 - val_auc: 0.9920\n",
            "Epoch 60/60\n",
            "233/234 [============================>.] - ETA: 0s - loss: 0.0487 - accuracy: 0.9842 - precision: 0.9828 - recall: 0.9855 - auc: 0.9979\n",
            "Epoch 60: val_accuracy did not improve from 0.98237\n",
            "234/234 [==============================] - 6s 27ms/step - loss: 0.0485 - accuracy: 0.9842 - precision: 0.9829 - recall: 0.9855 - auc: 0.9979 - val_loss: 0.1006 - val_accuracy: 0.9770 - val_precision: 0.9819 - val_recall: 0.9726 - val_auc: 0.9914\n"
          ]
        },
        {
          "output_type": "execute_result",
          "data": {
            "text/plain": [
              "<keras.src.callbacks.History at 0x7a08801a21a0>"
            ]
          },
          "metadata": {},
          "execution_count": 15
        }
      ],
      "source": [
        "hybridmodel.fit(x=[Xeeg_train, Xfnirs_train], y=y_train, epochs=EPOCHS,validation_data=([Xeeg_test, Xfnirs_test], y_test), batch_size=BATCH_SIZE, callbacks=[model_checkpoint_callback])"
      ]
    },
    {
      "cell_type": "code",
      "execution_count": 16,
      "id": "zqispbySSDhY",
      "metadata": {
        "id": "zqispbySSDhY",
        "colab": {
          "base_uri": "https://localhost:8080/"
        },
        "outputId": "8633e56f-4ef5-42f3-b43d-a3df164ae6c5"
      },
      "outputs": [
        {
          "output_type": "execute_result",
          "data": {
            "text/plain": [
              "<tensorflow.python.checkpoint.checkpoint.CheckpointLoadStatus at 0x7a09eb5be110>"
            ]
          },
          "metadata": {},
          "execution_count": 16
        }
      ],
      "source": [
        "hybridmodel.load_weights(checkpoint_filepath)"
      ]
    },
    {
      "cell_type": "code",
      "execution_count": 17,
      "id": "e0966357",
      "metadata": {
        "id": "e0966357",
        "colab": {
          "base_uri": "https://localhost:8080/"
        },
        "outputId": "fc6a8f6d-a59d-4f20-f624-76e5d7a652fc"
      },
      "outputs": [
        {
          "output_type": "stream",
          "name": "stdout",
          "text": [
            "59/59 [==============================] - 1s 8ms/step\n"
          ]
        }
      ],
      "source": [
        "probabilities = hybridmodel.predict([Xeeg_test, Xfnirs_test])"
      ]
    },
    {
      "cell_type": "code",
      "execution_count": 18,
      "id": "51c700e0",
      "metadata": {
        "id": "51c700e0"
      },
      "outputs": [],
      "source": [
        "y_preds= np.round(probabilities)"
      ]
    },
    {
      "cell_type": "code",
      "execution_count": 19,
      "id": "ee334b3f",
      "metadata": {
        "id": "ee334b3f",
        "colab": {
          "base_uri": "https://localhost:8080/",
          "height": 414
        },
        "outputId": "a06b005a-411c-4489-8253-511c4d41f4be"
      },
      "outputs": [
        {
          "output_type": "execute_result",
          "data": {
            "text/plain": [
              "Text(17.25, 0.5, 'Actual label')"
            ]
          },
          "metadata": {},
          "execution_count": 19
        },
        {
          "output_type": "display_data",
          "data": {
            "text/plain": [
              "<Figure size 400x400 with 1 Axes>"
            ],
            "image/png": "[encoded data removed]"
          },
          "metadata": {}
        }
      ],
      "source": [
        "#confusion matrix\n",
        "import matplotlib.pyplot as plt\n",
        "from sklearn.metrics import confusion_matrix\n",
        "import seaborn as sns\n",
        "\n",
        "sns.set()\n",
        "\n",
        "plt.figure(figsize=(4,4))\n",
        "\n",
        "mat = confusion_matrix(y_test, y_preds )\n",
        "labels = [0,1]\n",
        "\n",
        "sns.heatmap(mat, square=True, annot=True, fmt='d', cbar=False, cmap='Blues',\n",
        "            xticklabels=labels, yticklabels=labels)\n",
        "\n",
        "plt.xlabel('Predicted label')\n",
        "plt.ylabel('Actual label')"
      ]
    },
    {
      "cell_type": "code",
      "execution_count": 20,
      "id": "ba8ad964",
      "metadata": {
        "id": "ba8ad964",
        "colab": {
          "base_uri": "https://localhost:8080/"
        },
        "outputId": "fe75cf46-9b68-437d-ee00-1749d048b868"
      },
      "outputs": [
        {
          "output_type": "stream",
          "name": "stdout",
          "text": [
            "59/59 [==============================] - 0s 8ms/step - loss: 0.0893 - accuracy: 0.9824 - precision: 0.9801 - recall: 0.9852 - auc: 0.9930\n"
          ]
        }
      ],
      "source": [
        "#FIX\n",
        "loss,accuracy,precision,recall,AUC = hybridmodel.evaluate([Xeeg_test,Xfnirs_test], y_test)"
      ]
    },
    {
      "cell_type": "code",
      "execution_count": 21,
      "id": "77a88698",
      "metadata": {
        "colab": {
          "base_uri": "https://localhost:8080/"
        },
        "id": "77a88698",
        "outputId": "ad6c2a01-61fb-49d8-980e-abc9245068b4"
      },
      "outputs": [
        {
          "output_type": "stream",
          "name": "stdout",
          "text": [
            "pretrained model= False\n",
            "resnet= False\n",
            "seed= 38\n",
            "lr= 0.01\n"
          ]
        }
      ],
      "source": [
        "print(\"pretrained model=\", baseline_model)\n",
        "print(\"resnet=\", resnet)\n",
        "print(\"seed=\",RANDOM_STATE)\n",
        "print(\"lr=\", lr)"
      ]
    }
  ],
  "metadata": {
    "accelerator": "GPU",
    "colab": {
      "gpuType": "V100",
      "provenance": []
    },
    "kernelspec": {
      "display_name": "Python 3",
      "name": "python3"
    },
    "language_info": {
      "codemirror_mode": {
        "name": "ipython",
        "version": 3
      },
      "file_extension": ".py",
      "mimetype": "text/x-python",
      "name": "python",
      "nbconvert_exporter": "python",
      "pygments_lexer": "ipython3",
      "version": "3.8.15"
    }
  },
  "nbformat": 4,
  "nbformat_minor": 5
}