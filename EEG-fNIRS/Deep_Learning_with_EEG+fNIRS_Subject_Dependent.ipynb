{
 "cells": [
  {
   "cell_type": "markdown",
   "id": "b69b9c99",
   "metadata": {},
   "source": [
    "# Subject Dependent Experiments"
   ]
  },
  {
   "cell_type": "code",
   "execution_count": 1,
   "id": "e523dc8c",
   "metadata": {},
   "outputs": [],
   "source": [
    "#model trained on one individual subject's samples, shuffled and divided into an 80-20 train-test split"
   ]
  },
  {
   "cell_type": "markdown",
   "id": "9efbd3a0",
   "metadata": {},
   "source": [
    "In this notebook, we will apply EF-Net classifier to Hybrid EEG + fNIRS data with the data split in a Subject Dependent setting."
   ]
  },
  {
   "cell_type": "markdown",
   "id": "a7400f7f",
   "metadata": {},
   "source": [
    "The dataset I am using is called: Simultaneous Acquisition of EEG and NIRS during Cognitive Tasks for\n",
    "an Open Access Dataset,\n",
    "    and is available here: https://doc.ml.tu-berlin.de/simultaneous_EEG_NIRS/. We are using Dataset C for classification.\n",
    "    There is 36 NIRS channels. 30 EEG channels."
   ]
  },
  {
   "cell_type": "markdown",
   "id": "ac943cc2",
   "metadata": {},
   "source": [
    "The current settings in this file will run the EF-Net model. (baseline_model==False). We also have the Deep Learning baselines here, that can be implemented using the 'baseline_model' boolean set to True, and further the 'resnet' boolean which indicates a resnet baseline to be used. If resnet==False, then the VGG baseline shall be implemented.\n",
    "Deep learning parameters were set according to the table in the appendix of our published paper: [EF-Net: Mental State Recognition by Analyzing Multimodal EEG-fNIRS via CNN](https://doi.org/10.3390/s24061889). For more information on this code, please refer to this paper as well."
   ]
  },
  {
   "cell_type": "markdown",
   "id": "d2522165",
   "metadata": {},
   "source": [
    "The dataset we have used is called: Simultaneous Acquisition of EEG and NIRS during Cognitive Tasks for\n",
    "an Open Access Dataset, and is available here: https://doc.ml.tu-berlin.de/simultaneous_EEG_NIRS/. We are using Dataset C for classification. There are 72 fNIRS channels and 30 EEG channels. The dataset has 26 subjects in total. Each subject has data of 60 trials: which includes 3 sessions per subject, each session has 20 trials, each trial has 10 Word Generation tasks, and 10 Baseline tasks. This brings each subject to a total of 60 trials of either WG or BL tasks, performed in random order. Here we will further use those 60 trials to create 360 samples per subject, by using a sliding window technique across each trial."
   ]
  },
  {
   "cell_type": "code",
   "execution_count": 2,
   "id": "dcca0812",
   "metadata": {},
   "outputs": [],
   "source": [
    "import numpy as np\n",
    "import tensorflow as tf\n",
    "from data_preprocess import extract_subj_dep\n",
    "import hybrid_model_structures as models"
   ]
  },
  {
   "cell_type": "markdown",
   "id": "110f0cb6",
   "metadata": {},
   "source": [
    "### Inputs - enter here:"
   ]
  },
  {
   "cell_type": "code",
   "execution_count": 3,
   "id": "8f9e411e",
   "metadata": {},
   "outputs": [],
   "source": [
    "#INPUT\n",
    "\n",
    "#subjects directory path\n",
    "#The data should be extracted in the same directory as this script.\n",
    "dir_path_f = \"./FNIRS_data/FNIRS2/NIRS_01-26_MATLAB/\"\n",
    "dir_path_e=\"./EEG_data/EEG2/EEG_01-26_MATLAB/\"\n",
    "\n",
    "#subject number \n",
    "subject=\"03\"   \n",
    "\n",
    "#result written to this file\n",
    "result_file=\"eeg_fnirs_individual_subject_RESNETresults_38.txt\"\n",
    "\n",
    "#######################\n",
    "#Deep Learning settings:\n",
    "\n",
    "baseline_model=False    #using baselines or EFNet\n",
    "resnet=False\n",
    "if baseline_model:\n",
    "    lr=0.00005\n",
    "    EPOCHS=70\n",
    "else:\n",
    "    lr=0.001\n",
    "    EPOCHS=70\n",
    "BATCH_SIZE = 32\n",
    "RANDOM_STATE=38\n"
   ]
  },
  {
   "cell_type": "markdown",
   "id": "4f97a460",
   "metadata": {},
   "source": [
    "### Extracting samples from the data"
   ]
  },
  {
   "cell_type": "code",
   "execution_count": 4,
   "id": "f6ae703f",
   "metadata": {},
   "outputs": [
    {
     "name": "stdout",
     "output_type": "stream",
     "text": [
      "tasks shape (100, 72)\n",
      "Length of data samples,  6\n",
      "tasks shape (100, 72)\n",
      "Length of data samples,  12\n",
      "tasks shape (100, 72)\n",
      "Length of data samples,  18\n",
      "tasks shape (100, 72)\n",
      "Length of data samples,  24\n",
      "tasks shape (100, 72)\n",
      "Length of data samples,  30\n",
      "tasks shape (100, 72)\n",
      "Length of data samples,  36\n",
      "tasks shape (100, 72)\n",
      "Length of data samples,  42\n",
      "tasks shape (100, 72)\n",
      "Length of data samples,  48\n",
      "tasks shape (100, 72)\n",
      "Length of data samples,  54\n",
      "tasks shape (100, 72)\n",
      "Length of data samples,  60\n",
      "tasks shape (100, 72)\n",
      "Length of data samples,  66\n",
      "tasks shape (100, 72)\n",
      "Length of data samples,  72\n",
      "tasks shape (100, 72)\n",
      "Length of data samples,  78\n",
      "tasks shape (100, 72)\n",
      "Length of data samples,  84\n",
      "tasks shape (100, 72)\n",
      "Length of data samples,  90\n",
      "tasks shape (100, 72)\n",
      "Length of data samples,  96\n",
      "tasks shape (100, 72)\n",
      "Length of data samples,  102\n",
      "tasks shape (100, 72)\n",
      "Length of data samples,  108\n",
      "tasks shape (100, 72)\n",
      "Length of data samples,  114\n",
      "tasks shape (100, 72)\n",
      "Length of data samples,  120\n",
      "tasks shape (100, 72)\n",
      "Length of data samples,  126\n",
      "tasks shape (100, 72)\n",
      "Length of data samples,  132\n",
      "tasks shape (100, 72)\n",
      "Length of data samples,  138\n",
      "tasks shape (100, 72)\n",
      "Length of data samples,  144\n",
      "tasks shape (100, 72)\n",
      "Length of data samples,  150\n",
      "tasks shape (100, 72)\n",
      "Length of data samples,  156\n",
      "tasks shape (100, 72)\n",
      "Length of data samples,  162\n",
      "tasks shape (100, 72)\n",
      "Length of data samples,  168\n",
      "tasks shape (100, 72)\n",
      "Length of data samples,  174\n",
      "tasks shape (100, 72)\n",
      "Length of data samples,  180\n",
      "tasks shape (100, 72)\n",
      "Length of data samples,  186\n",
      "tasks shape (100, 72)\n",
      "Length of data samples,  192\n",
      "tasks shape (100, 72)\n",
      "Length of data samples,  198\n",
      "tasks shape (100, 72)\n",
      "Length of data samples,  204\n",
      "tasks shape (100, 72)\n",
      "Length of data samples,  210\n",
      "tasks shape (100, 72)\n",
      "Length of data samples,  216\n",
      "tasks shape (100, 72)\n",
      "Length of data samples,  222\n",
      "tasks shape (100, 72)\n",
      "Length of data samples,  228\n",
      "tasks shape (100, 72)\n",
      "Length of data samples,  234\n",
      "tasks shape (100, 72)\n",
      "Length of data samples,  240\n",
      "tasks shape (100, 72)\n",
      "Length of data samples,  246\n",
      "tasks shape (100, 72)\n",
      "Length of data samples,  252\n",
      "tasks shape (100, 72)\n",
      "Length of data samples,  258\n",
      "tasks shape (100, 72)\n",
      "Length of data samples,  264\n",
      "tasks shape (100, 72)\n",
      "Length of data samples,  270\n",
      "tasks shape (100, 72)\n",
      "Length of data samples,  276\n",
      "tasks shape (100, 72)\n",
      "Length of data samples,  282\n",
      "tasks shape (100, 72)\n",
      "Length of data samples,  288\n",
      "tasks shape (100, 72)\n",
      "Length of data samples,  294\n",
      "tasks shape (100, 72)\n",
      "Length of data samples,  300\n",
      "tasks shape (100, 72)\n",
      "Length of data samples,  306\n",
      "tasks shape (100, 72)\n",
      "Length of data samples,  312\n",
      "tasks shape (100, 72)\n",
      "Length of data samples,  318\n",
      "tasks shape (100, 72)\n",
      "Length of data samples,  324\n",
      "tasks shape (100, 72)\n",
      "Length of data samples,  330\n",
      "tasks shape (100, 72)\n",
      "Length of data samples,  336\n",
      "tasks shape (100, 72)\n",
      "Length of data samples,  342\n",
      "tasks shape (100, 72)\n",
      "Length of data samples,  348\n",
      "tasks shape (100, 72)\n",
      "Length of data samples,  354\n",
      "tasks shape (100, 72)\n",
      "Length of data samples,  360\n",
      "(360, 25, 72, 1)\n",
      "(360, 500, 30, 1)\n",
      "(360, 2)\n"
     ]
    }
   ],
   "source": [
    "X_eeg, X_fnirs, Y = extract_subj_dep(subject,baseline_model)"
   ]
  },
  {
   "cell_type": "markdown",
   "id": "cf75f1ae",
   "metadata": {},
   "source": [
    "We now have an array of 360 samples from each subject. Each sample is a 5 second window from the task data, with one second of overlap with the previous sample.  \n",
    "Secondly, we have an array Y made from the labels (y) array in session_markers from the dataset, and by appending the corresponding classes across the samples taken, we also have 360 trial labels per subject in the Y array."
   ]
  },
  {
   "cell_type": "markdown",
   "id": "cb21d717",
   "metadata": {},
   "source": [
    "### Standardizing the data, and then splitting the train-test partitions"
   ]
  },
  {
   "cell_type": "code",
   "execution_count": 5,
   "id": "df3128b4",
   "metadata": {},
   "outputs": [],
   "source": [
    "from sklearn.preprocessing import StandardScaler\n",
    "from sklearn.model_selection import train_test_split"
   ]
  },
  {
   "cell_type": "code",
   "execution_count": 6,
   "id": "9da19875",
   "metadata": {},
   "outputs": [
    {
     "name": "stdout",
     "output_type": "stream",
     "text": [
      "(360, 500, 30, 1)\n",
      "(360, 25, 72, 1)\n",
      "(360,)\n"
     ]
    }
   ],
   "source": [
    "# Standardize our signals data\n",
    "# Reshaping the data samples into 2D applying the scaling and then reshaping back\n",
    "scaler = StandardScaler()\n",
    "XeegS = scaler.fit_transform(X_eeg.reshape(-1, X_eeg.shape[-1])).reshape(X_eeg.shape)\n",
    "XfnirsS = scaler.fit_transform(X_fnirs.reshape(-1, X_fnirs.shape[-1])).reshape(X_fnirs.shape)\n",
    "\n",
    "#adjustment to labels to make compatible with binary_crossentropy\n",
    "Y=Y[:,0]\n",
    "\n",
    "print(XeegS.shape)\n",
    "print(XfnirsS.shape)\n",
    "print(Y.shape)"
   ]
  },
  {
   "cell_type": "code",
   "execution_count": 7,
   "id": "31193ffd",
   "metadata": {},
   "outputs": [
    {
     "data": {
      "text/plain": [
       "(360, 500, 30, 1)"
      ]
     },
     "execution_count": 7,
     "metadata": {},
     "output_type": "execute_result"
    }
   ],
   "source": [
    "#reshaping data into correct form for input into models.\n",
    "if baseline_model:\n",
    "    XeegS_3D=XeegS\n",
    "    XfnirsS_3D=XfnirsS\n",
    "else:\n",
    "    #reshape into 2D and 1 channel data (3D samples list) for EF-Net.\n",
    "    XeegS_3D=np.reshape(XeegS,(XeegS.shape[0],XeegS.shape[1],XeegS.shape[2],1))\n",
    "    XfnirsS_3D=np.reshape(XfnirsS,(XfnirsS.shape[0],XfnirsS.shape[1],XfnirsS.shape[2],1))\n",
    "XeegS_3D.shape"
   ]
  },
  {
   "cell_type": "markdown",
   "id": "c149f0aa",
   "metadata": {},
   "source": [
    "We now have an array of 360 samples for one subject as shown in output above. Each sample is a 5 second window from the task data, with one second of overlap with the previous sample.  \n",
    "Secondly, we have an array Y made from the y array in session_markers data, and by appending the corresponding classes across the samples taken, we have 360 values in the Y array."
   ]
  },
  {
   "cell_type": "code",
   "execution_count": 8,
   "id": "a9666990",
   "metadata": {},
   "outputs": [
    {
     "name": "stdout",
     "output_type": "stream",
     "text": [
      "(288, 500, 30, 1) (72, 500, 30, 1)\n",
      "(288, 25, 72, 1) (72, 25, 72, 1)\n"
     ]
    }
   ],
   "source": [
    "#Split all samples into training and testing splits\n",
    "Xeeg_train, Xeeg_test, y_train, y_test = train_test_split(XeegS_3D, Y, test_size=0.2,random_state=RANDOM_STATE)\n",
    "print(Xeeg_train.shape,Xeeg_test.shape)\n",
    "\n",
    "Xfnirs_train, Xfnirs_test, y_train2, y_test2 = train_test_split(XfnirsS_3D, Y, test_size=0.2, random_state=RANDOM_STATE)\n",
    "print(Xfnirs_train.shape, Xfnirs_test.shape)\n",
    "\n",
    "#print(np.all(y_train==y_train2)) #check"
   ]
  },
  {
   "cell_type": "markdown",
   "id": "5c8c5dcb",
   "metadata": {},
   "source": [
    "### Applying a deep neural network to our data"
   ]
  },
  {
   "cell_type": "code",
   "execution_count": 9,
   "id": "138ce8c8",
   "metadata": {},
   "outputs": [],
   "source": [
    "if baseline_model:\n",
    "    hybridmodel= models.eeg_fnirs_vgg(Xeeg_train,Xfnirs_train, resnet)\n",
    "else:\n",
    "    hybridmodel=models.eeg_fnirs_cnn_v2()"
   ]
  },
  {
   "cell_type": "code",
   "execution_count": 10,
   "id": "fbf97004",
   "metadata": {},
   "outputs": [
    {
     "name": "stdout",
     "output_type": "stream",
     "text": [
      "Model: \"model_2\"\n",
      "__________________________________________________________________________________________________\n",
      " Layer (type)                   Output Shape         Param #     Connected to                     \n",
      "==================================================================================================\n",
      " input_1 (InputLayer)           [(None, 500, 30, 1)  0           []                               \n",
      "                                ]                                                                 \n",
      "                                                                                                  \n",
      " conv2d (Conv2D)                (None, 494, 30, 32)  256         ['input_1[0][0]']                \n",
      "                                                                                                  \n",
      " conv2d_1 (Conv2D)              (None, 488, 30, 32)  7200        ['conv2d[0][0]']                 \n",
      "                                                                                                  \n",
      " conv2d_2 (Conv2D)              (None, 482, 30, 32)  7200        ['conv2d_1[0][0]']               \n",
      "                                                                                                  \n",
      " max_pooling2d (MaxPooling2D)   (None, 68, 30, 32)   0           ['conv2d_2[0][0]']               \n",
      "                                                                                                  \n",
      " input_2 (InputLayer)           [(None, 25, 72, 1)]  0           []                               \n",
      "                                                                                                  \n",
      " dropout (Dropout)              (None, 68, 30, 32)   0           ['max_pooling2d[0][0]']          \n",
      "                                                                                                  \n",
      " conv2d_6 (Conv2D)              (None, 22, 72, 32)   160         ['input_2[0][0]']                \n",
      "                                                                                                  \n",
      " batch_normalization (BatchNorm  (None, 68, 30, 32)  128         ['dropout[0][0]']                \n",
      " alization)                                                                                       \n",
      "                                                                                                  \n",
      " conv2d_7 (Conv2D)              (None, 19, 72, 32)   4128        ['conv2d_6[0][0]']               \n",
      "                                                                                                  \n",
      " conv2d_3 (Conv2D)              (None, 65, 27, 64)   32832       ['batch_normalization[0][0]']    \n",
      "                                                                                                  \n",
      " max_pooling2d_2 (MaxPooling2D)  (None, 4, 72, 32)   0           ['conv2d_7[0][0]']               \n",
      "                                                                                                  \n",
      " conv2d_4 (Conv2D)              (None, 62, 24, 64)   65600       ['conv2d_3[0][0]']               \n",
      "                                                                                                  \n",
      " dropout_3 (Dropout)            (None, 4, 72, 32)    0           ['max_pooling2d_2[0][0]']        \n",
      "                                                                                                  \n",
      " conv2d_5 (Conv2D)              (None, 59, 21, 64)   65600       ['conv2d_4[0][0]']               \n",
      "                                                                                                  \n",
      " batch_normalization_2 (BatchNo  (None, 4, 72, 32)   128         ['dropout_3[0][0]']              \n",
      " rmalization)                                                                                     \n",
      "                                                                                                  \n",
      " max_pooling2d_1 (MaxPooling2D)  (None, 14, 5, 64)   0           ['conv2d_5[0][0]']               \n",
      "                                                                                                  \n",
      " conv2d_8 (Conv2D)              (None, 3, 71, 64)    8256        ['batch_normalization_2[0][0]']  \n",
      "                                                                                                  \n",
      " dropout_1 (Dropout)            (None, 14, 5, 64)    0           ['max_pooling2d_1[0][0]']        \n",
      "                                                                                                  \n",
      " conv2d_9 (Conv2D)              (None, 2, 70, 64)    16448       ['conv2d_8[0][0]']               \n",
      "                                                                                                  \n",
      " batch_normalization_1 (BatchNo  (None, 14, 5, 64)   256         ['dropout_1[0][0]']              \n",
      " rmalization)                                                                                     \n",
      "                                                                                                  \n",
      " max_pooling2d_3 (MaxPooling2D)  (None, 1, 35, 64)   0           ['conv2d_9[0][0]']               \n",
      "                                                                                                  \n",
      " flatten (Flatten)              (None, 4480)         0           ['batch_normalization_1[0][0]']  \n",
      "                                                                                                  \n",
      " dropout_4 (Dropout)            (None, 1, 35, 64)    0           ['max_pooling2d_3[0][0]']        \n",
      "                                                                                                  \n",
      " dense (Dense)                  (None, 256)          1147136     ['flatten[0][0]']                \n",
      "                                                                                                  \n",
      " batch_normalization_3 (BatchNo  (None, 1, 35, 64)   256         ['dropout_4[0][0]']              \n",
      " rmalization)                                                                                     \n",
      "                                                                                                  \n",
      " dropout_2 (Dropout)            (None, 256)          0           ['dense[0][0]']                  \n",
      "                                                                                                  \n",
      " flatten_1 (Flatten)            (None, 2240)         0           ['batch_normalization_3[0][0]']  \n",
      "                                                                                                  \n",
      " dense_1 (Dense)                (None, 128)          32896       ['dropout_2[0][0]']              \n",
      "                                                                                                  \n",
      " dense_2 (Dense)                (None, 128)          286848      ['flatten_1[0][0]']              \n",
      "                                                                                                  \n",
      " concatenate (Concatenate)      (None, 256)          0           ['dense_1[0][0]',                \n",
      "                                                                  'dense_2[0][0]']                \n",
      "                                                                                                  \n",
      " dense_3 (Dense)                (None, 256)          65792       ['concatenate[0][0]']            \n",
      "                                                                                                  \n",
      " dropout_5 (Dropout)            (None, 256)          0           ['dense_3[0][0]']                \n",
      "                                                                                                  \n",
      " lambda (Lambda)                (None, 256)          0           ['dropout_5[0][0]']              \n",
      "                                                                                                  \n",
      " dense_4 (Dense)                (None, 64)           16448       ['lambda[0][0]']                 \n",
      "                                                                                                  \n",
      " dense_5 (Dense)                (None, 1)            65          ['dense_4[0][0]']                \n",
      "                                                                                                  \n",
      "==================================================================================================\n",
      "Total params: 1,757,633\n",
      "Trainable params: 1,757,249\n",
      "Non-trainable params: 384\n",
      "__________________________________________________________________________________________________\n"
     ]
    }
   ],
   "source": [
    "hybridmodel.summary()"
   ]
  },
  {
   "cell_type": "code",
   "execution_count": 11,
   "id": "0bfc7c96",
   "metadata": {},
   "outputs": [],
   "source": [
    "from tensorflow.keras.optimizers import Adam\n",
    "\n",
    "hybridmodel.compile(optimizer=Adam(learning_rate=lr),loss='binary_crossentropy',metrics=['accuracy','Precision','Recall','AUC'])"
   ]
  },
  {
   "cell_type": "code",
   "execution_count": 12,
   "id": "4274d1cf",
   "metadata": {},
   "outputs": [],
   "source": [
    "#save best model weights\n",
    "\n",
    "checkpoint_filepath = './tmp/checkpointef'\n",
    "model_checkpoint_callback = tf.keras.callbacks.ModelCheckpoint(\n",
    "    filepath=checkpoint_filepath,\n",
    "    save_weights_only=True,\n",
    "    monitor='val_accuracy',\n",
    "    mode='max',\n",
    "    save_best_only=True,\n",
    "    verbose=1)"
   ]
  },
  {
   "cell_type": "code",
   "execution_count": 13,
   "id": "25c5fcb0",
   "metadata": {
    "scrolled": true
   },
   "outputs": [
    {
     "name": "stdout",
     "output_type": "stream",
     "text": [
      "Epoch 1/70\n"
     ]
    },
    {
     "name": "stderr",
     "output_type": "stream",
     "text": [
      "2024-05-14 11:28:54.662578: W tensorflow/core/platform/profile_utils/cpu_utils.cc:128] Failed to get CPU frequency: 0 Hz\n"
     ]
    },
    {
     "name": "stdout",
     "output_type": "stream",
     "text": [
      "9/9 [==============================] - ETA: 0s - loss: 0.6835 - accuracy: 0.6111 - precision: 0.6627 - recall: 0.3957 - auc: 0.6332\n",
      "Epoch 1: val_accuracy improved from -inf to 0.62500, saving model to ./tmp/checkpointef\n",
      "9/9 [==============================] - 5s 417ms/step - loss: 0.6835 - accuracy: 0.6111 - precision: 0.6627 - recall: 0.3957 - auc: 0.6332 - val_loss: 0.6620 - val_accuracy: 0.6250 - val_precision: 0.7188 - val_recall: 0.5610 - val_auc: 0.7305\n",
      "Epoch 2/70\n",
      "9/9 [==============================] - ETA: 0s - loss: 0.6557 - accuracy: 0.6736 - precision: 0.7184 - recall: 0.5324 - auc: 0.7252\n",
      "Epoch 2: val_accuracy improved from 0.62500 to 0.66667, saving model to ./tmp/checkpointef\n",
      "9/9 [==============================] - 4s 434ms/step - loss: 0.6557 - accuracy: 0.6736 - precision: 0.7184 - recall: 0.5324 - auc: 0.7252 - val_loss: 0.6366 - val_accuracy: 0.6667 - val_precision: 0.7297 - val_recall: 0.6585 - val_auc: 0.7132\n",
      "Epoch 3/70\n",
      "9/9 [==============================] - ETA: 0s - loss: 0.6301 - accuracy: 0.7014 - precision: 0.7524 - recall: 0.5683 - auc: 0.7444\n",
      "Epoch 3: val_accuracy improved from 0.66667 to 0.68056, saving model to ./tmp/checkpointef\n",
      "9/9 [==============================] - 4s 491ms/step - loss: 0.6301 - accuracy: 0.7014 - precision: 0.7524 - recall: 0.5683 - auc: 0.7444 - val_loss: 0.5958 - val_accuracy: 0.6806 - val_precision: 0.7500 - val_recall: 0.6585 - val_auc: 0.7699\n",
      "Epoch 4/70\n",
      "9/9 [==============================] - ETA: 0s - loss: 0.5835 - accuracy: 0.7535 - precision: 0.7982 - recall: 0.6547 - auc: 0.8110\n",
      "Epoch 4: val_accuracy did not improve from 0.68056\n",
      "9/9 [==============================] - 4s 434ms/step - loss: 0.5835 - accuracy: 0.7535 - precision: 0.7982 - recall: 0.6547 - auc: 0.8110 - val_loss: 0.5996 - val_accuracy: 0.6806 - val_precision: 0.7647 - val_recall: 0.6341 - val_auc: 0.7844\n",
      "Epoch 5/70\n",
      "9/9 [==============================] - ETA: 0s - loss: 0.5357 - accuracy: 0.8021 - precision: 0.8417 - recall: 0.7266 - auc: 0.8436\n",
      "Epoch 5: val_accuracy did not improve from 0.68056\n",
      "9/9 [==============================] - 4s 459ms/step - loss: 0.5357 - accuracy: 0.8021 - precision: 0.8417 - recall: 0.7266 - auc: 0.8436 - val_loss: 0.5978 - val_accuracy: 0.6806 - val_precision: 0.7500 - val_recall: 0.6585 - val_auc: 0.7880\n",
      "Epoch 6/70\n",
      "9/9 [==============================] - ETA: 0s - loss: 0.4808 - accuracy: 0.8125 - precision: 0.8761 - recall: 0.7122 - auc: 0.8942\n",
      "Epoch 6: val_accuracy improved from 0.68056 to 0.75000, saving model to ./tmp/checkpointef\n",
      "9/9 [==============================] - 4s 485ms/step - loss: 0.4808 - accuracy: 0.8125 - precision: 0.8761 - recall: 0.7122 - auc: 0.8942 - val_loss: 0.5032 - val_accuracy: 0.7500 - val_precision: 0.7170 - val_recall: 0.9268 - val_auc: 0.8647\n",
      "Epoch 7/70\n",
      "9/9 [==============================] - ETA: 0s - loss: 0.3919 - accuracy: 0.8785 - precision: 0.9127 - recall: 0.8273 - auc: 0.9482\n",
      "Epoch 7: val_accuracy did not improve from 0.75000\n",
      "9/9 [==============================] - 4s 459ms/step - loss: 0.3919 - accuracy: 0.8785 - precision: 0.9127 - recall: 0.8273 - auc: 0.9482 - val_loss: 0.5345 - val_accuracy: 0.7500 - val_precision: 0.7170 - val_recall: 0.9268 - val_auc: 0.9032\n",
      "Epoch 8/70\n",
      "9/9 [==============================] - ETA: 0s - loss: 0.3119 - accuracy: 0.9062 - precision: 0.9308 - recall: 0.8705 - auc: 0.9699\n",
      "Epoch 8: val_accuracy improved from 0.75000 to 0.77778, saving model to ./tmp/checkpointef\n",
      "9/9 [==============================] - 4s 397ms/step - loss: 0.3119 - accuracy: 0.9062 - precision: 0.9308 - recall: 0.8705 - auc: 0.9699 - val_loss: 0.5197 - val_accuracy: 0.7778 - val_precision: 0.7193 - val_recall: 1.0000 - val_auc: 0.9052\n",
      "Epoch 9/70\n",
      "9/9 [==============================] - ETA: 0s - loss: 0.2791 - accuracy: 0.9062 - precision: 0.9058 - recall: 0.8993 - auc: 0.9703\n",
      "Epoch 9: val_accuracy improved from 0.77778 to 0.84722, saving model to ./tmp/checkpointef\n",
      "9/9 [==============================] - 4s 402ms/step - loss: 0.2791 - accuracy: 0.9062 - precision: 0.9058 - recall: 0.8993 - auc: 0.9703 - val_loss: 0.4111 - val_accuracy: 0.8472 - val_precision: 0.7885 - val_recall: 1.0000 - val_auc: 0.9666\n",
      "Epoch 10/70\n",
      "9/9 [==============================] - ETA: 0s - loss: 0.2425 - accuracy: 0.9201 - precision: 0.9085 - recall: 0.9281 - auc: 0.9766\n",
      "Epoch 10: val_accuracy improved from 0.84722 to 0.88889, saving model to ./tmp/checkpointef\n",
      "9/9 [==============================] - 4s 443ms/step - loss: 0.2425 - accuracy: 0.9201 - precision: 0.9085 - recall: 0.9281 - auc: 0.9766 - val_loss: 0.3040 - val_accuracy: 0.8889 - val_precision: 0.8367 - val_recall: 1.0000 - val_auc: 0.9961\n",
      "Epoch 11/70\n",
      "9/9 [==============================] - ETA: 0s - loss: 0.1956 - accuracy: 0.9306 - precision: 0.9281 - recall: 0.9281 - auc: 0.9857\n",
      "Epoch 11: val_accuracy improved from 0.88889 to 0.91667, saving model to ./tmp/checkpointef\n",
      "9/9 [==============================] - 4s 465ms/step - loss: 0.1956 - accuracy: 0.9306 - precision: 0.9281 - recall: 0.9281 - auc: 0.9857 - val_loss: 0.2124 - val_accuracy: 0.9167 - val_precision: 0.8723 - val_recall: 1.0000 - val_auc: 0.9921\n",
      "Epoch 12/70\n",
      "9/9 [==============================] - ETA: 0s - loss: 0.1513 - accuracy: 0.9583 - precision: 0.9504 - recall: 0.9640 - auc: 0.9899\n",
      "Epoch 12: val_accuracy improved from 0.91667 to 0.94444, saving model to ./tmp/checkpointef\n",
      "9/9 [==============================] - 4s 417ms/step - loss: 0.1513 - accuracy: 0.9583 - precision: 0.9504 - recall: 0.9640 - auc: 0.9899 - val_loss: 0.1285 - val_accuracy: 0.9444 - val_precision: 0.9111 - val_recall: 1.0000 - val_auc: 1.0000\n",
      "Epoch 13/70\n",
      "9/9 [==============================] - ETA: 0s - loss: 0.1171 - accuracy: 0.9583 - precision: 0.9504 - recall: 0.9640 - auc: 0.9947\n",
      "Epoch 13: val_accuracy improved from 0.94444 to 0.97222, saving model to ./tmp/checkpointef\n",
      "9/9 [==============================] - 4s 404ms/step - loss: 0.1171 - accuracy: 0.9583 - precision: 0.9504 - recall: 0.9640 - auc: 0.9947 - val_loss: 0.1124 - val_accuracy: 0.9722 - val_precision: 0.9535 - val_recall: 1.0000 - val_auc: 0.9965\n",
      "Epoch 14/70\n",
      "9/9 [==============================] - ETA: 0s - loss: 0.0785 - accuracy: 0.9792 - precision: 0.9854 - recall: 0.9712 - auc: 0.9988\n",
      "Epoch 14: val_accuracy did not improve from 0.97222\n",
      "9/9 [==============================] - 4s 424ms/step - loss: 0.0785 - accuracy: 0.9792 - precision: 0.9854 - recall: 0.9712 - auc: 0.9988 - val_loss: 0.0516 - val_accuracy: 0.9583 - val_precision: 0.9318 - val_recall: 1.0000 - val_auc: 1.0000\n",
      "Epoch 15/70\n",
      "9/9 [==============================] - ETA: 0s - loss: 0.0732 - accuracy: 0.9826 - precision: 0.9855 - recall: 0.9784 - auc: 0.9981\n",
      "Epoch 15: val_accuracy did not improve from 0.97222\n",
      "9/9 [==============================] - 3s 389ms/step - loss: 0.0732 - accuracy: 0.9826 - precision: 0.9855 - recall: 0.9784 - auc: 0.9981 - val_loss: 0.1271 - val_accuracy: 0.9444 - val_precision: 0.9111 - val_recall: 1.0000 - val_auc: 1.0000\n",
      "Epoch 16/70\n",
      "9/9 [==============================] - ETA: 0s - loss: 0.0830 - accuracy: 0.9826 - precision: 0.9855 - recall: 0.9784 - auc: 0.9920\n",
      "Epoch 16: val_accuracy did not improve from 0.97222\n",
      "9/9 [==============================] - 3s 386ms/step - loss: 0.0830 - accuracy: 0.9826 - precision: 0.9855 - recall: 0.9784 - auc: 0.9920 - val_loss: 0.2659 - val_accuracy: 0.9167 - val_precision: 0.8723 - val_recall: 1.0000 - val_auc: 0.9996\n",
      "Epoch 17/70\n",
      "9/9 [==============================] - ETA: 0s - loss: 0.0440 - accuracy: 0.9931 - precision: 1.0000 - recall: 0.9856 - auc: 0.9996\n",
      "Epoch 17: val_accuracy did not improve from 0.97222\n",
      "9/9 [==============================] - 4s 392ms/step - loss: 0.0440 - accuracy: 0.9931 - precision: 1.0000 - recall: 0.9856 - auc: 0.9996 - val_loss: 0.0918 - val_accuracy: 0.9722 - val_precision: 0.9535 - val_recall: 1.0000 - val_auc: 1.0000\n",
      "Epoch 18/70\n",
      "9/9 [==============================] - ETA: 0s - loss: 0.0988 - accuracy: 0.9722 - precision: 0.9852 - recall: 0.9568 - auc: 0.9909\n",
      "Epoch 18: val_accuracy did not improve from 0.97222\n",
      "9/9 [==============================] - 4s 401ms/step - loss: 0.0988 - accuracy: 0.9722 - precision: 0.9852 - recall: 0.9568 - auc: 0.9909 - val_loss: 0.0868 - val_accuracy: 0.9722 - val_precision: 0.9535 - val_recall: 1.0000 - val_auc: 1.0000\n",
      "Epoch 19/70\n",
      "9/9 [==============================] - ETA: 0s - loss: 0.0890 - accuracy: 0.9757 - precision: 0.9583 - recall: 0.9928 - auc: 0.9970\n",
      "Epoch 19: val_accuracy did not improve from 0.97222\n",
      "9/9 [==============================] - 3s 374ms/step - loss: 0.0890 - accuracy: 0.9757 - precision: 0.9583 - recall: 0.9928 - auc: 0.9970 - val_loss: 0.0779 - val_accuracy: 0.9722 - val_precision: 0.9535 - val_recall: 1.0000 - val_auc: 1.0000\n",
      "Epoch 20/70\n",
      "9/9 [==============================] - ETA: 0s - loss: 0.0662 - accuracy: 0.9861 - precision: 0.9927 - recall: 0.9784 - auc: 0.9984\n",
      "Epoch 20: val_accuracy improved from 0.97222 to 1.00000, saving model to ./tmp/checkpointef\n",
      "9/9 [==============================] - 3s 384ms/step - loss: 0.0662 - accuracy: 0.9861 - precision: 0.9927 - recall: 0.9784 - auc: 0.9984 - val_loss: 0.0150 - val_accuracy: 1.0000 - val_precision: 1.0000 - val_recall: 1.0000 - val_auc: 1.0000\n",
      "Epoch 21/70\n",
      "9/9 [==============================] - ETA: 0s - loss: 0.0402 - accuracy: 0.9826 - precision: 0.9855 - recall: 0.9784 - auc: 0.9996\n",
      "Epoch 21: val_accuracy did not improve from 1.00000\n",
      "9/9 [==============================] - 4s 397ms/step - loss: 0.0402 - accuracy: 0.9826 - precision: 0.9855 - recall: 0.9784 - auc: 0.9996 - val_loss: 0.0454 - val_accuracy: 0.9861 - val_precision: 0.9762 - val_recall: 1.0000 - val_auc: 1.0000\n",
      "Epoch 22/70\n",
      "9/9 [==============================] - ETA: 0s - loss: 0.0383 - accuracy: 0.9896 - precision: 0.9857 - recall: 0.9928 - auc: 0.9995\n",
      "Epoch 22: val_accuracy did not improve from 1.00000\n",
      "9/9 [==============================] - 3s 374ms/step - loss: 0.0383 - accuracy: 0.9896 - precision: 0.9857 - recall: 0.9928 - auc: 0.9995 - val_loss: 0.0512 - val_accuracy: 0.9861 - val_precision: 0.9762 - val_recall: 1.0000 - val_auc: 1.0000\n",
      "Epoch 23/70\n",
      "9/9 [==============================] - ETA: 0s - loss: 0.0341 - accuracy: 0.9965 - precision: 0.9929 - recall: 1.0000 - auc: 0.9972\n",
      "Epoch 23: val_accuracy did not improve from 1.00000\n",
      "9/9 [==============================] - 4s 396ms/step - loss: 0.0341 - accuracy: 0.9965 - precision: 0.9929 - recall: 1.0000 - auc: 0.9972 - val_loss: 0.0745 - val_accuracy: 0.9861 - val_precision: 0.9762 - val_recall: 1.0000 - val_auc: 1.0000\n",
      "Epoch 24/70\n",
      "9/9 [==============================] - ETA: 0s - loss: 0.0165 - accuracy: 1.0000 - precision: 1.0000 - recall: 1.0000 - auc: 1.0000\n",
      "Epoch 24: val_accuracy did not improve from 1.00000\n",
      "9/9 [==============================] - 3s 383ms/step - loss: 0.0165 - accuracy: 1.0000 - precision: 1.0000 - recall: 1.0000 - auc: 1.0000 - val_loss: 0.0747 - val_accuracy: 0.9861 - val_precision: 0.9762 - val_recall: 1.0000 - val_auc: 1.0000\n",
      "Epoch 25/70\n",
      "9/9 [==============================] - ETA: 0s - loss: 0.0139 - accuracy: 0.9965 - precision: 1.0000 - recall: 0.9928 - auc: 1.0000\n",
      "Epoch 25: val_accuracy did not improve from 1.00000\n",
      "9/9 [==============================] - 3s 378ms/step - loss: 0.0139 - accuracy: 0.9965 - precision: 1.0000 - recall: 0.9928 - auc: 1.0000 - val_loss: 0.0936 - val_accuracy: 0.9861 - val_precision: 0.9762 - val_recall: 1.0000 - val_auc: 0.9839\n",
      "Epoch 26/70\n",
      "9/9 [==============================] - ETA: 0s - loss: 0.0290 - accuracy: 0.9931 - precision: 0.9928 - recall: 0.9928 - auc: 0.9998\n",
      "Epoch 26: val_accuracy did not improve from 1.00000\n",
      "9/9 [==============================] - 4s 445ms/step - loss: 0.0290 - accuracy: 0.9931 - precision: 0.9928 - recall: 0.9928 - auc: 0.9998 - val_loss: 0.1950 - val_accuracy: 0.9583 - val_precision: 0.9318 - val_recall: 1.0000 - val_auc: 0.9839\n",
      "Epoch 27/70\n",
      "9/9 [==============================] - ETA: 0s - loss: 0.0472 - accuracy: 0.9861 - precision: 0.9787 - recall: 0.9928 - auc: 0.9988\n",
      "Epoch 27: val_accuracy did not improve from 1.00000\n",
      "9/9 [==============================] - 4s 407ms/step - loss: 0.0472 - accuracy: 0.9861 - precision: 0.9787 - recall: 0.9928 - auc: 0.9988 - val_loss: 0.0587 - val_accuracy: 0.9861 - val_precision: 0.9762 - val_recall: 1.0000 - val_auc: 1.0000\n",
      "Epoch 28/70\n",
      "9/9 [==============================] - ETA: 0s - loss: 0.0376 - accuracy: 0.9896 - precision: 1.0000 - recall: 0.9784 - auc: 0.9951\n",
      "Epoch 28: val_accuracy did not improve from 1.00000\n",
      "9/9 [==============================] - 3s 391ms/step - loss: 0.0376 - accuracy: 0.9896 - precision: 1.0000 - recall: 0.9784 - auc: 0.9951 - val_loss: 0.0444 - val_accuracy: 0.9861 - val_precision: 0.9762 - val_recall: 1.0000 - val_auc: 1.0000\n",
      "Epoch 29/70\n",
      "9/9 [==============================] - ETA: 0s - loss: 0.0415 - accuracy: 0.9861 - precision: 0.9927 - recall: 0.9784 - auc: 0.9994\n",
      "Epoch 29: val_accuracy did not improve from 1.00000\n",
      "9/9 [==============================] - 4s 386ms/step - loss: 0.0415 - accuracy: 0.9861 - precision: 0.9927 - recall: 0.9784 - auc: 0.9994 - val_loss: 0.1932 - val_accuracy: 0.9583 - val_precision: 0.9318 - val_recall: 1.0000 - val_auc: 0.9677\n",
      "Epoch 30/70\n",
      "9/9 [==============================] - ETA: 0s - loss: 0.0224 - accuracy: 0.9931 - precision: 0.9858 - recall: 1.0000 - auc: 1.0000\n",
      "Epoch 30: val_accuracy did not improve from 1.00000\n",
      "9/9 [==============================] - 4s 399ms/step - loss: 0.0224 - accuracy: 0.9931 - precision: 0.9858 - recall: 1.0000 - auc: 1.0000 - val_loss: 0.1173 - val_accuracy: 0.9583 - val_precision: 0.9318 - val_recall: 1.0000 - val_auc: 1.0000\n",
      "Epoch 31/70\n",
      "9/9 [==============================] - ETA: 0s - loss: 0.0383 - accuracy: 0.9826 - precision: 0.9855 - recall: 0.9784 - auc: 0.9993\n",
      "Epoch 31: val_accuracy did not improve from 1.00000\n",
      "9/9 [==============================] - 3s 384ms/step - loss: 0.0383 - accuracy: 0.9826 - precision: 0.9855 - recall: 0.9784 - auc: 0.9993 - val_loss: 0.0633 - val_accuracy: 0.9722 - val_precision: 0.9535 - val_recall: 1.0000 - val_auc: 1.0000\n",
      "Epoch 32/70\n",
      "9/9 [==============================] - ETA: 0s - loss: 0.0591 - accuracy: 0.9722 - precision: 0.9645 - recall: 0.9784 - auc: 0.9989\n",
      "Epoch 32: val_accuracy did not improve from 1.00000\n",
      "9/9 [==============================] - 4s 396ms/step - loss: 0.0591 - accuracy: 0.9722 - precision: 0.9645 - recall: 0.9784 - auc: 0.9989 - val_loss: 0.2538 - val_accuracy: 0.9583 - val_precision: 0.9318 - val_recall: 1.0000 - val_auc: 0.9516\n",
      "Epoch 33/70\n",
      "9/9 [==============================] - ETA: 0s - loss: 0.0688 - accuracy: 0.9792 - precision: 0.9716 - recall: 0.9856 - auc: 0.9966\n",
      "Epoch 33: val_accuracy did not improve from 1.00000\n",
      "9/9 [==============================] - 3s 380ms/step - loss: 0.0688 - accuracy: 0.9792 - precision: 0.9716 - recall: 0.9856 - auc: 0.9966 - val_loss: 0.0767 - val_accuracy: 0.9722 - val_precision: 0.9535 - val_recall: 1.0000 - val_auc: 1.0000\n",
      "Epoch 34/70\n",
      "9/9 [==============================] - ETA: 0s - loss: 0.0456 - accuracy: 0.9861 - precision: 1.0000 - recall: 0.9712 - auc: 0.9998\n",
      "Epoch 34: val_accuracy did not improve from 1.00000\n",
      "9/9 [==============================] - 4s 399ms/step - loss: 0.0456 - accuracy: 0.9861 - precision: 1.0000 - recall: 0.9712 - auc: 0.9998 - val_loss: 0.2004 - val_accuracy: 0.9444 - val_precision: 0.9111 - val_recall: 1.0000 - val_auc: 0.9839\n",
      "Epoch 35/70\n",
      "9/9 [==============================] - ETA: 0s - loss: 0.0564 - accuracy: 0.9792 - precision: 0.9716 - recall: 0.9856 - auc: 0.9990\n",
      "Epoch 35: val_accuracy did not improve from 1.00000\n",
      "9/9 [==============================] - 4s 393ms/step - loss: 0.0564 - accuracy: 0.9792 - precision: 0.9716 - recall: 0.9856 - auc: 0.9990 - val_loss: 0.2536 - val_accuracy: 0.9306 - val_precision: 0.8913 - val_recall: 1.0000 - val_auc: 0.9839\n",
      "Epoch 36/70\n",
      "9/9 [==============================] - ETA: 0s - loss: 0.0331 - accuracy: 0.9965 - precision: 0.9929 - recall: 1.0000 - auc: 0.9978\n",
      "Epoch 36: val_accuracy did not improve from 1.00000\n",
      "9/9 [==============================] - 3s 379ms/step - loss: 0.0331 - accuracy: 0.9965 - precision: 0.9929 - recall: 1.0000 - auc: 0.9978 - val_loss: 0.1035 - val_accuracy: 0.9722 - val_precision: 0.9535 - val_recall: 1.0000 - val_auc: 1.0000\n",
      "Epoch 37/70\n",
      "9/9 [==============================] - ETA: 0s - loss: 0.0139 - accuracy: 0.9965 - precision: 0.9929 - recall: 1.0000 - auc: 1.0000\n",
      "Epoch 37: val_accuracy did not improve from 1.00000\n",
      "9/9 [==============================] - 3s 371ms/step - loss: 0.0139 - accuracy: 0.9965 - precision: 0.9929 - recall: 1.0000 - auc: 1.0000 - val_loss: 0.0673 - val_accuracy: 0.9722 - val_precision: 0.9535 - val_recall: 1.0000 - val_auc: 1.0000\n",
      "Epoch 38/70\n",
      "9/9 [==============================] - ETA: 0s - loss: 0.0140 - accuracy: 0.9931 - precision: 0.9928 - recall: 0.9928 - auc: 0.9999\n",
      "Epoch 38: val_accuracy did not improve from 1.00000\n",
      "9/9 [==============================] - 3s 370ms/step - loss: 0.0140 - accuracy: 0.9931 - precision: 0.9928 - recall: 0.9928 - auc: 0.9999 - val_loss: 0.0611 - val_accuracy: 0.9722 - val_precision: 0.9535 - val_recall: 1.0000 - val_auc: 1.0000\n",
      "Epoch 39/70\n",
      "9/9 [==============================] - ETA: 0s - loss: 0.0348 - accuracy: 0.9896 - precision: 0.9928 - recall: 0.9856 - auc: 0.9997\n",
      "Epoch 39: val_accuracy did not improve from 1.00000\n",
      "9/9 [==============================] - 4s 399ms/step - loss: 0.0348 - accuracy: 0.9896 - precision: 0.9928 - recall: 0.9856 - auc: 0.9997 - val_loss: 0.0760 - val_accuracy: 0.9722 - val_precision: 0.9535 - val_recall: 1.0000 - val_auc: 1.0000\n",
      "Epoch 40/70\n",
      "9/9 [==============================] - ETA: 0s - loss: 0.0371 - accuracy: 0.9792 - precision: 0.9716 - recall: 0.9856 - auc: 0.9992\n",
      "Epoch 40: val_accuracy did not improve from 1.00000\n",
      "9/9 [==============================] - 3s 379ms/step - loss: 0.0371 - accuracy: 0.9792 - precision: 0.9716 - recall: 0.9856 - auc: 0.9992 - val_loss: 0.0387 - val_accuracy: 0.9861 - val_precision: 0.9762 - val_recall: 1.0000 - val_auc: 1.0000\n",
      "Epoch 41/70\n",
      "9/9 [==============================] - ETA: 0s - loss: 0.0161 - accuracy: 0.9931 - precision: 0.9928 - recall: 0.9928 - auc: 1.0000\n",
      "Epoch 41: val_accuracy did not improve from 1.00000\n",
      "9/9 [==============================] - 3s 381ms/step - loss: 0.0161 - accuracy: 0.9931 - precision: 0.9928 - recall: 0.9928 - auc: 1.0000 - val_loss: 0.0148 - val_accuracy: 1.0000 - val_precision: 1.0000 - val_recall: 1.0000 - val_auc: 1.0000\n",
      "Epoch 42/70\n",
      "9/9 [==============================] - ETA: 0s - loss: 0.0137 - accuracy: 0.9931 - precision: 0.9928 - recall: 0.9928 - auc: 1.0000\n",
      "Epoch 42: val_accuracy did not improve from 1.00000\n",
      "9/9 [==============================] - 4s 389ms/step - loss: 0.0137 - accuracy: 0.9931 - precision: 0.9928 - recall: 0.9928 - auc: 1.0000 - val_loss: 0.0813 - val_accuracy: 0.9583 - val_precision: 0.9318 - val_recall: 1.0000 - val_auc: 1.0000\n",
      "Epoch 43/70\n",
      "9/9 [==============================] - ETA: 0s - loss: 0.0119 - accuracy: 0.9965 - precision: 0.9929 - recall: 1.0000 - auc: 1.0000\n",
      "Epoch 43: val_accuracy did not improve from 1.00000\n",
      "9/9 [==============================] - 3s 382ms/step - loss: 0.0119 - accuracy: 0.9965 - precision: 0.9929 - recall: 1.0000 - auc: 1.0000 - val_loss: 0.0657 - val_accuracy: 0.9722 - val_precision: 0.9535 - val_recall: 1.0000 - val_auc: 1.0000\n",
      "Epoch 44/70\n",
      "9/9 [==============================] - ETA: 0s - loss: 0.0060 - accuracy: 1.0000 - precision: 1.0000 - recall: 1.0000 - auc: 1.0000\n",
      "Epoch 44: val_accuracy did not improve from 1.00000\n",
      "9/9 [==============================] - 4s 448ms/step - loss: 0.0060 - accuracy: 1.0000 - precision: 1.0000 - recall: 1.0000 - auc: 1.0000 - val_loss: 0.0097 - val_accuracy: 1.0000 - val_precision: 1.0000 - val_recall: 1.0000 - val_auc: 1.0000\n",
      "Epoch 45/70\n",
      "9/9 [==============================] - ETA: 0s - loss: 0.0119 - accuracy: 0.9965 - precision: 1.0000 - recall: 0.9928 - auc: 1.0000\n",
      "Epoch 45: val_accuracy did not improve from 1.00000\n",
      "9/9 [==============================] - 3s 381ms/step - loss: 0.0119 - accuracy: 0.9965 - precision: 1.0000 - recall: 0.9928 - auc: 1.0000 - val_loss: 0.0095 - val_accuracy: 1.0000 - val_precision: 1.0000 - val_recall: 1.0000 - val_auc: 1.0000\n",
      "Epoch 46/70\n",
      "9/9 [==============================] - ETA: 0s - loss: 0.0144 - accuracy: 0.9965 - precision: 0.9929 - recall: 1.0000 - auc: 1.0000\n",
      "Epoch 46: val_accuracy did not improve from 1.00000\n",
      "9/9 [==============================] - 3s 390ms/step - loss: 0.0144 - accuracy: 0.9965 - precision: 0.9929 - recall: 1.0000 - auc: 1.0000 - val_loss: 0.0559 - val_accuracy: 0.9722 - val_precision: 0.9535 - val_recall: 1.0000 - val_auc: 1.0000\n",
      "Epoch 47/70\n",
      "9/9 [==============================] - ETA: 0s - loss: 0.0079 - accuracy: 0.9965 - precision: 1.0000 - recall: 0.9928 - auc: 1.0000\n",
      "Epoch 47: val_accuracy did not improve from 1.00000\n",
      "9/9 [==============================] - 3s 375ms/step - loss: 0.0079 - accuracy: 0.9965 - precision: 1.0000 - recall: 0.9928 - auc: 1.0000 - val_loss: 0.0888 - val_accuracy: 0.9722 - val_precision: 0.9535 - val_recall: 1.0000 - val_auc: 1.0000\n",
      "Epoch 48/70\n",
      "9/9 [==============================] - ETA: 0s - loss: 0.0254 - accuracy: 0.9965 - precision: 1.0000 - recall: 0.9928 - auc: 0.9962\n",
      "Epoch 48: val_accuracy did not improve from 1.00000\n",
      "9/9 [==============================] - 3s 386ms/step - loss: 0.0254 - accuracy: 0.9965 - precision: 1.0000 - recall: 0.9928 - auc: 0.9962 - val_loss: 0.1382 - val_accuracy: 0.9722 - val_precision: 0.9535 - val_recall: 1.0000 - val_auc: 0.9839\n",
      "Epoch 49/70\n",
      "9/9 [==============================] - ETA: 0s - loss: 0.0097 - accuracy: 0.9965 - precision: 0.9929 - recall: 1.0000 - auc: 1.0000\n",
      "Epoch 49: val_accuracy did not improve from 1.00000\n",
      "9/9 [==============================] - 4s 405ms/step - loss: 0.0097 - accuracy: 0.9965 - precision: 0.9929 - recall: 1.0000 - auc: 1.0000 - val_loss: 0.0492 - val_accuracy: 0.9861 - val_precision: 0.9762 - val_recall: 1.0000 - val_auc: 1.0000\n",
      "Epoch 50/70\n",
      "9/9 [==============================] - ETA: 0s - loss: 0.0070 - accuracy: 0.9965 - precision: 1.0000 - recall: 0.9928 - auc: 1.0000\n",
      "Epoch 50: val_accuracy did not improve from 1.00000\n",
      "9/9 [==============================] - 3s 376ms/step - loss: 0.0070 - accuracy: 0.9965 - precision: 1.0000 - recall: 0.9928 - auc: 1.0000 - val_loss: 0.0334 - val_accuracy: 0.9861 - val_precision: 0.9762 - val_recall: 1.0000 - val_auc: 1.0000\n",
      "Epoch 51/70\n",
      "9/9 [==============================] - ETA: 0s - loss: 0.0043 - accuracy: 1.0000 - precision: 1.0000 - recall: 1.0000 - auc: 1.0000\n",
      "Epoch 51: val_accuracy did not improve from 1.00000\n",
      "9/9 [==============================] - 4s 414ms/step - loss: 0.0043 - accuracy: 1.0000 - precision: 1.0000 - recall: 1.0000 - auc: 1.0000 - val_loss: 0.0422 - val_accuracy: 0.9722 - val_precision: 0.9535 - val_recall: 1.0000 - val_auc: 1.0000\n",
      "Epoch 52/70\n",
      "9/9 [==============================] - ETA: 0s - loss: 0.0037 - accuracy: 1.0000 - precision: 1.0000 - recall: 1.0000 - auc: 1.0000\n",
      "Epoch 52: val_accuracy did not improve from 1.00000\n",
      "9/9 [==============================] - 4s 480ms/step - loss: 0.0037 - accuracy: 1.0000 - precision: 1.0000 - recall: 1.0000 - auc: 1.0000 - val_loss: 0.0304 - val_accuracy: 0.9861 - val_precision: 0.9762 - val_recall: 1.0000 - val_auc: 1.0000\n",
      "Epoch 53/70\n",
      "9/9 [==============================] - ETA: 0s - loss: 0.0168 - accuracy: 0.9965 - precision: 0.9929 - recall: 1.0000 - auc: 0.9999\n",
      "Epoch 53: val_accuracy did not improve from 1.00000\n",
      "9/9 [==============================] - 4s 435ms/step - loss: 0.0168 - accuracy: 0.9965 - precision: 0.9929 - recall: 1.0000 - auc: 0.9999 - val_loss: 0.0062 - val_accuracy: 1.0000 - val_precision: 1.0000 - val_recall: 1.0000 - val_auc: 1.0000\n",
      "Epoch 54/70\n",
      "9/9 [==============================] - ETA: 0s - loss: 0.0028 - accuracy: 1.0000 - precision: 1.0000 - recall: 1.0000 - auc: 1.0000\n",
      "Epoch 54: val_accuracy did not improve from 1.00000\n",
      "9/9 [==============================] - 4s 394ms/step - loss: 0.0028 - accuracy: 1.0000 - precision: 1.0000 - recall: 1.0000 - auc: 1.0000 - val_loss: 0.0050 - val_accuracy: 1.0000 - val_precision: 1.0000 - val_recall: 1.0000 - val_auc: 1.0000\n",
      "Epoch 55/70\n",
      "9/9 [==============================] - ETA: 0s - loss: 0.0024 - accuracy: 1.0000 - precision: 1.0000 - recall: 1.0000 - auc: 1.0000\n",
      "Epoch 55: val_accuracy did not improve from 1.00000\n",
      "9/9 [==============================] - 3s 393ms/step - loss: 0.0024 - accuracy: 1.0000 - precision: 1.0000 - recall: 1.0000 - auc: 1.0000 - val_loss: 0.0032 - val_accuracy: 1.0000 - val_precision: 1.0000 - val_recall: 1.0000 - val_auc: 1.0000\n",
      "Epoch 56/70\n",
      "9/9 [==============================] - ETA: 0s - loss: 0.0145 - accuracy: 0.9965 - precision: 1.0000 - recall: 0.9928 - auc: 1.0000\n",
      "Epoch 56: val_accuracy did not improve from 1.00000\n",
      "9/9 [==============================] - 4s 446ms/step - loss: 0.0145 - accuracy: 0.9965 - precision: 1.0000 - recall: 0.9928 - auc: 1.0000 - val_loss: 7.3886e-04 - val_accuracy: 1.0000 - val_precision: 1.0000 - val_recall: 1.0000 - val_auc: 1.0000\n",
      "Epoch 57/70\n",
      "9/9 [==============================] - ETA: 0s - loss: 0.0060 - accuracy: 1.0000 - precision: 1.0000 - recall: 1.0000 - auc: 1.0000\n",
      "Epoch 57: val_accuracy did not improve from 1.00000\n",
      "9/9 [==============================] - 3s 371ms/step - loss: 0.0060 - accuracy: 1.0000 - precision: 1.0000 - recall: 1.0000 - auc: 1.0000 - val_loss: 9.9013e-04 - val_accuracy: 1.0000 - val_precision: 1.0000 - val_recall: 1.0000 - val_auc: 1.0000\n",
      "Epoch 58/70\n",
      "9/9 [==============================] - ETA: 0s - loss: 0.0051 - accuracy: 0.9965 - precision: 0.9929 - recall: 1.0000 - auc: 1.0000\n",
      "Epoch 58: val_accuracy did not improve from 1.00000\n",
      "9/9 [==============================] - 4s 396ms/step - loss: 0.0051 - accuracy: 0.9965 - precision: 0.9929 - recall: 1.0000 - auc: 1.0000 - val_loss: 0.0015 - val_accuracy: 1.0000 - val_precision: 1.0000 - val_recall: 1.0000 - val_auc: 1.0000\n",
      "Epoch 59/70\n",
      "9/9 [==============================] - ETA: 0s - loss: 0.0042 - accuracy: 1.0000 - precision: 1.0000 - recall: 1.0000 - auc: 1.0000\n",
      "Epoch 59: val_accuracy did not improve from 1.00000\n",
      "9/9 [==============================] - 3s 380ms/step - loss: 0.0042 - accuracy: 1.0000 - precision: 1.0000 - recall: 1.0000 - auc: 1.0000 - val_loss: 0.0350 - val_accuracy: 0.9861 - val_precision: 0.9762 - val_recall: 1.0000 - val_auc: 1.0000\n",
      "Epoch 60/70\n",
      "9/9 [==============================] - ETA: 0s - loss: 0.0016 - accuracy: 1.0000 - precision: 1.0000 - recall: 1.0000 - auc: 1.0000\n",
      "Epoch 60: val_accuracy did not improve from 1.00000\n",
      "9/9 [==============================] - 3s 393ms/step - loss: 0.0016 - accuracy: 1.0000 - precision: 1.0000 - recall: 1.0000 - auc: 1.0000 - val_loss: 0.0676 - val_accuracy: 0.9722 - val_precision: 0.9535 - val_recall: 1.0000 - val_auc: 1.0000\n",
      "Epoch 61/70\n",
      "9/9 [==============================] - ETA: 0s - loss: 0.0022 - accuracy: 1.0000 - precision: 1.0000 - recall: 1.0000 - auc: 1.0000\n",
      "Epoch 61: val_accuracy did not improve from 1.00000\n",
      "9/9 [==============================] - 4s 393ms/step - loss: 0.0022 - accuracy: 1.0000 - precision: 1.0000 - recall: 1.0000 - auc: 1.0000 - val_loss: 0.0576 - val_accuracy: 0.9722 - val_precision: 0.9535 - val_recall: 1.0000 - val_auc: 1.0000\n",
      "Epoch 62/70\n",
      "9/9 [==============================] - ETA: 0s - loss: 0.0020 - accuracy: 1.0000 - precision: 1.0000 - recall: 1.0000 - auc: 1.0000\n",
      "Epoch 62: val_accuracy did not improve from 1.00000\n",
      "9/9 [==============================] - 3s 380ms/step - loss: 0.0020 - accuracy: 1.0000 - precision: 1.0000 - recall: 1.0000 - auc: 1.0000 - val_loss: 0.0350 - val_accuracy: 0.9861 - val_precision: 0.9762 - val_recall: 1.0000 - val_auc: 1.0000\n",
      "Epoch 63/70\n",
      "9/9 [==============================] - ETA: 0s - loss: 0.0026 - accuracy: 1.0000 - precision: 1.0000 - recall: 1.0000 - auc: 1.0000\n",
      "Epoch 63: val_accuracy did not improve from 1.00000\n",
      "9/9 [==============================] - 3s 369ms/step - loss: 0.0026 - accuracy: 1.0000 - precision: 1.0000 - recall: 1.0000 - auc: 1.0000 - val_loss: 7.3841e-05 - val_accuracy: 1.0000 - val_precision: 1.0000 - val_recall: 1.0000 - val_auc: 1.0000\n",
      "Epoch 64/70\n",
      "9/9 [==============================] - ETA: 0s - loss: 0.0015 - accuracy: 1.0000 - precision: 1.0000 - recall: 1.0000 - auc: 1.0000\n",
      "Epoch 64: val_accuracy did not improve from 1.00000\n",
      "9/9 [==============================] - 3s 359ms/step - loss: 0.0015 - accuracy: 1.0000 - precision: 1.0000 - recall: 1.0000 - auc: 1.0000 - val_loss: 7.0129e-05 - val_accuracy: 1.0000 - val_precision: 1.0000 - val_recall: 1.0000 - val_auc: 1.0000\n",
      "Epoch 65/70\n",
      "9/9 [==============================] - ETA: 0s - loss: 0.0012 - accuracy: 1.0000 - precision: 1.0000 - recall: 1.0000 - auc: 1.0000\n",
      "Epoch 65: val_accuracy did not improve from 1.00000\n",
      "9/9 [==============================] - 4s 451ms/step - loss: 0.0012 - accuracy: 1.0000 - precision: 1.0000 - recall: 1.0000 - auc: 1.0000 - val_loss: 6.6591e-05 - val_accuracy: 1.0000 - val_precision: 1.0000 - val_recall: 1.0000 - val_auc: 1.0000\n",
      "Epoch 66/70\n",
      "9/9 [==============================] - ETA: 0s - loss: 0.0012 - accuracy: 1.0000 - precision: 1.0000 - recall: 1.0000 - auc: 1.0000\n",
      "Epoch 66: val_accuracy did not improve from 1.00000\n",
      "9/9 [==============================] - 3s 378ms/step - loss: 0.0012 - accuracy: 1.0000 - precision: 1.0000 - recall: 1.0000 - auc: 1.0000 - val_loss: 6.2391e-05 - val_accuracy: 1.0000 - val_precision: 1.0000 - val_recall: 1.0000 - val_auc: 1.0000\n",
      "Epoch 67/70\n",
      "9/9 [==============================] - ETA: 0s - loss: 0.0020 - accuracy: 1.0000 - precision: 1.0000 - recall: 1.0000 - auc: 1.0000\n",
      "Epoch 67: val_accuracy did not improve from 1.00000\n",
      "9/9 [==============================] - 4s 486ms/step - loss: 0.0020 - accuracy: 1.0000 - precision: 1.0000 - recall: 1.0000 - auc: 1.0000 - val_loss: 5.8490e-05 - val_accuracy: 1.0000 - val_precision: 1.0000 - val_recall: 1.0000 - val_auc: 1.0000\n",
      "Epoch 68/70\n",
      "9/9 [==============================] - ETA: 0s - loss: 0.0040 - accuracy: 0.9965 - precision: 0.9929 - recall: 1.0000 - auc: 1.0000\n",
      "Epoch 68: val_accuracy did not improve from 1.00000\n",
      "9/9 [==============================] - 4s 397ms/step - loss: 0.0040 - accuracy: 0.9965 - precision: 0.9929 - recall: 1.0000 - auc: 1.0000 - val_loss: 6.1095e-05 - val_accuracy: 1.0000 - val_precision: 1.0000 - val_recall: 1.0000 - val_auc: 1.0000\n",
      "Epoch 69/70\n",
      "9/9 [==============================] - ETA: 0s - loss: 0.0021 - accuracy: 1.0000 - precision: 1.0000 - recall: 1.0000 - auc: 1.0000\n",
      "Epoch 69: val_accuracy did not improve from 1.00000\n",
      "9/9 [==============================] - 4s 430ms/step - loss: 0.0021 - accuracy: 1.0000 - precision: 1.0000 - recall: 1.0000 - auc: 1.0000 - val_loss: 3.2438e-04 - val_accuracy: 1.0000 - val_precision: 1.0000 - val_recall: 1.0000 - val_auc: 1.0000\n",
      "Epoch 70/70\n",
      "9/9 [==============================] - ETA: 0s - loss: 0.0041 - accuracy: 0.9965 - precision: 0.9929 - recall: 1.0000 - auc: 1.0000\n",
      "Epoch 70: val_accuracy did not improve from 1.00000\n",
      "9/9 [==============================] - 3s 376ms/step - loss: 0.0041 - accuracy: 0.9965 - precision: 0.9929 - recall: 1.0000 - auc: 1.0000 - val_loss: 1.0515e-04 - val_accuracy: 1.0000 - val_precision: 1.0000 - val_recall: 1.0000 - val_auc: 1.0000\n"
     ]
    },
    {
     "data": {
      "text/plain": [
       "<keras.callbacks.History at 0x15ee8aa60>"
      ]
     },
     "execution_count": 13,
     "metadata": {},
     "output_type": "execute_result"
    }
   ],
   "source": [
    "hybridmodel.fit(x=[Xeeg_train, Xfnirs_train], y=y_train, validation_data=([Xeeg_test, Xfnirs_test], y_test), epochs=EPOCHS, callbacks=[model_checkpoint_callback])  "
   ]
  },
  {
   "cell_type": "code",
   "execution_count": 14,
   "id": "f514d45a",
   "metadata": {},
   "outputs": [
    {
     "data": {
      "text/plain": [
       "<tensorflow.python.checkpoint.checkpoint.CheckpointLoadStatus at 0x2997bc100>"
      ]
     },
     "execution_count": 14,
     "metadata": {},
     "output_type": "execute_result"
    }
   ],
   "source": [
    "hybridmodel.load_weights(checkpoint_filepath)"
   ]
  },
  {
   "cell_type": "code",
   "execution_count": 15,
   "id": "e8285c4e",
   "metadata": {},
   "outputs": [
    {
     "name": "stdout",
     "output_type": "stream",
     "text": [
      "3/3 [==============================] - 0s 74ms/step\n"
     ]
    }
   ],
   "source": [
    "probabilities = hybridmodel.predict([Xeeg_test, Xfnirs_test])"
   ]
  },
  {
   "cell_type": "code",
   "execution_count": 16,
   "id": "baad940b",
   "metadata": {
    "scrolled": true
   },
   "outputs": [],
   "source": [
    "y_preds= np.round(probabilities)"
   ]
  },
  {
   "cell_type": "code",
   "execution_count": 17,
   "id": "7b0cf6c7",
   "metadata": {},
   "outputs": [
    {
     "data": {
      "text/plain": [
       "Text(18.25, 0.5, 'Actual label')"
      ]
     },
     "execution_count": 17,
     "metadata": {},
     "output_type": "execute_result"
    },
    {
     "data": {
      "image/png": "[encoded data removed]",
      "text/plain": [
       "<Figure size 400x400 with 1 Axes>"
      ]
     },
     "metadata": {},
     "output_type": "display_data"
    }
   ],
   "source": [
    "#confusion matrix\n",
    "import matplotlib.pyplot as plt\n",
    "from sklearn.metrics import confusion_matrix\n",
    "import seaborn as sns\n",
    "\n",
    "\n",
    "sns.set()\n",
    "\n",
    "plt.figure(figsize=(4,4))\n",
    "\n",
    "mat = confusion_matrix(y_test, y_preds )\n",
    "labels = [0,1]\n",
    "\n",
    "sns.heatmap(mat, square=True, annot=True, fmt='d', cbar=False, cmap='Blues',\n",
    "            xticklabels=labels, yticklabels=labels)\n",
    "\n",
    "plt.xlabel('Predicted label')\n",
    "plt.ylabel('Actual label')"
   ]
  },
  {
   "cell_type": "code",
   "execution_count": 18,
   "id": "9d88d436",
   "metadata": {},
   "outputs": [
    {
     "name": "stdout",
     "output_type": "stream",
     "text": [
      "3/3 [==============================] - 0s 81ms/step - loss: 0.0150 - accuracy: 1.0000 - precision: 1.0000 - recall: 1.0000 - auc: 1.0000\n"
     ]
    }
   ],
   "source": [
    "loss,accuracy,precision,recall,AUC = hybridmodel.evaluate([Xeeg_test,Xfnirs_test], y_test)"
   ]
  },
  {
   "cell_type": "code",
   "execution_count": 19,
   "id": "08491dcf",
   "metadata": {},
   "outputs": [],
   "source": [
    "#write run results to file\n",
    "file1 = open(result_file, \"a\")  # append mode\n",
    "write_string=\"subject=\"+str(subject)+\" acc=\"+\"{:.4f}\".format(accuracy)+\" precision=\"+\"{:.4f}\".format(precision)+\" recall=\"+\"{:.4f}\".format(recall)+\" AUC=\"+\"{:.4f}\".format(AUC)+\" loss=\"+\"{:.4f}\".format(loss)+\" seed=\"+str(RANDOM_STATE)+\" \\n\"\n",
    "file1.write(write_string)\n",
    "file1.close()"
   ]
  },
  {
   "cell_type": "code",
   "execution_count": 20,
   "id": "d274bb23",
   "metadata": {},
   "outputs": [
    {
     "name": "stdout",
     "output_type": "stream",
     "text": [
      "subject=  03\n",
      "seed=  38\n",
      "baseline?=  False\n",
      "resnet?=  False\n"
     ]
    }
   ],
   "source": [
    "print(\"subject= \",subject)\n",
    "print(\"seed= \",RANDOM_STATE)\n",
    "print(\"baseline?= \",baseline_model)\n",
    "print(\"resnet?= \",resnet)"
   ]
  }
 ],
 "metadata": {
  "kernelspec": {
   "display_name": "Python 3 (ipykernel)",
   "language": "python",
   "name": "python3"
  },
  "language_info": {
   "codemirror_mode": {
    "name": "ipython",
    "version": 3
   },
   "file_extension": ".py",
   "mimetype": "text/x-python",
   "name": "python",
   "nbconvert_exporter": "python",
   "pygments_lexer": "ipython3",
   "version": "3.8.15"
  }
 },
 "nbformat": 4,
 "nbformat_minor": 5
}
